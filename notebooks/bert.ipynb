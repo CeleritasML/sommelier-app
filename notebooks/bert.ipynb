{
 "cells": [
  {
   "cell_type": "markdown",
   "metadata": {},
   "source": [
    "# Evaluate our fine-tuned BERT model"
   ]
  },
  {
   "cell_type": "code",
   "execution_count": 1,
   "metadata": {},
   "outputs": [],
   "source": [
    "import numpy as np\n",
    "import pandas as pd"
   ]
  },
  {
   "cell_type": "code",
   "execution_count": 2,
   "metadata": {},
   "outputs": [],
   "source": [
    "# Load keywords and labels\n",
    "\n",
    "data = {\n",
    "    \"train\": pd.concat(\n",
    "        [\n",
    "            pd.read_csv(\"../data/wine_cleaned_train.csv\"),\n",
    "            pd.read_csv(\"../data/wine_cleaned_val.csv\"),\n",
    "        ]\n",
    "    ),\n",
    "    \"test\": pd.read_csv(\"../data/wine_cleaned_test.csv\"),\n",
    "}"
   ]
  },
  {
   "cell_type": "code",
   "execution_count": 3,
   "metadata": {},
   "outputs": [
    {
     "name": "stderr",
     "output_type": "stream",
     "text": [
      "d:\\anaconda3\\lib\\site-packages\\scipy\\__init__.py:138: UserWarning: A NumPy version >=1.16.5 and <1.23.0 is required for this version of SciPy (detected version 1.23.3)\n",
      "  warnings.warn(f\"A NumPy version >={np_minversion} and <{np_maxversion} is required for this version of \"\n"
     ]
    }
   ],
   "source": [
    "# Load onnx model and tokenizer\n",
    "\n",
    "import onnxruntime as rt\n",
    "import torch\n",
    "from transformers import BertTokenizer\n",
    "\n",
    "tokenizer = BertTokenizer.from_pretrained(\"bert-base-uncased\")\n",
    "sess = rt.InferenceSession(\n",
    "    \"../models/bert-mini-finetune.onnx\", providers=[\"CUDAExecutionProvider\"]\n",
    ")"
   ]
  },
  {
   "cell_type": "code",
   "execution_count": 4,
   "metadata": {
    "scrolled": true
   },
   "outputs": [],
   "source": [
    "# Read label2idx json\n",
    "\n",
    "import json\n",
    "\n",
    "with open(\"../models/label_to_idx.json\", \"r\") as f:\n",
    "    label2idx = json.load(f)\n",
    "\n",
    "data[\"train\"][\"label\"] = data[\"train\"][\"region_variety\"].map(lambda x: label2idx[x])\n",
    "data[\"test\"][\"label\"] = data[\"test\"][\"region_variety\"].map(lambda x: label2idx[x])"
   ]
  },
  {
   "cell_type": "code",
   "execution_count": 5,
   "metadata": {},
   "outputs": [],
   "source": [
    "# Get predictions in batches\n",
    "from tqdm import tqdm\n",
    "from sklearn.metrics import top_k_accuracy_score\n",
    "\n",
    "\n",
    "def get_predictions(texts, y_true, batch_size=1024):\n",
    "    all_preds = []\n",
    "    all_logits = []\n",
    "\n",
    "    t = tqdm(range(0, len(texts), batch_size))\n",
    "\n",
    "    for batch_start in t:\n",
    "        batch_end = batch_start + batch_size\n",
    "        batch = texts[batch_start:batch_end].tolist()\n",
    "        batch_labels = y_true[batch_start:batch_end]\n",
    "        inputs = tokenizer(batch, padding=True, return_tensors=\"pt\")\n",
    "        outputs = sess.run(\n",
    "            None,\n",
    "            {\n",
    "                \"input_ids\": inputs[\"input_ids\"].numpy(),\n",
    "                \"attention_mask\": inputs[\"attention_mask\"].numpy(),\n",
    "                \"token_type_ids\": inputs[\"token_type_ids\"].numpy(),\n",
    "            },\n",
    "        )\n",
    "        logits = outputs[0]\n",
    "        # Predict probabilities, if label in top 5, return label, else the first in top 5\n",
    "        y_pred = np.array([logits[i].argsort()[-5:][::-1] for i in range(len(logits))])\n",
    "        y_pred = np.array(\n",
    "            [\n",
    "                batch_labels[i] if batch_labels[i] in y_pred[i] else y_pred[i][0]\n",
    "                for i in range(len(y_pred))\n",
    "            ]\n",
    "        )\n",
    "        all_preds.extend(y_pred)\n",
    "        all_logits.extend(logits.tolist())\n",
    "\n",
    "    return all_preds, all_logits"
   ]
  },
  {
   "cell_type": "code",
   "execution_count": 6,
   "metadata": {},
   "outputs": [
    {
     "name": "stderr",
     "output_type": "stream",
     "text": [
      "100%|██████████| 109/109 [02:08<00:00,  1.18s/it]\n"
     ]
    },
    {
     "name": "stdout",
     "output_type": "stream",
     "text": [
      "Train top5 accuracy: 0.920407833563697\n"
     ]
    }
   ],
   "source": [
    "train_preds, train_logits = get_predictions(\n",
    "    data[\"train\"][\"description\"].values, data[\"train\"][\"label\"].values\n",
    ")\n",
    "print(\n",
    "    \"Train top5 accuracy:\",\n",
    "    top_k_accuracy_score(data[\"train\"][\"label\"], train_logits, k=5),\n",
    ")"
   ]
  },
  {
   "cell_type": "code",
   "execution_count": 7,
   "metadata": {},
   "outputs": [
    {
     "data": {
      "image/png": "[encoded data removed]",
      "text/plain": [
       "<Figure size 432x288 with 2 Axes>"
      ]
     },
     "metadata": {
      "needs_background": "light"
     },
     "output_type": "display_data"
    }
   ],
   "source": [
    "# Plot confusion matrix\n",
    "from sklearn.metrics import confusion_matrix\n",
    "import matplotlib.pyplot as plt\n",
    "\n",
    "\n",
    "def plot_conf_matrix(y_true, y_pred, title, filename):\n",
    "    \"\"\"Plot confusion matrix.\"\"\"\n",
    "    conf_mat = confusion_matrix(y_true, y_pred)\n",
    "    conf_mat = conf_mat.astype(\"float\") / conf_mat.sum(axis=1)[:, np.newaxis]\n",
    "    plt.imshow(conf_mat, cmap=\"Spectral_r\")\n",
    "    plt.colorbar()\n",
    "    plt.xlabel(\"Predicted label\")\n",
    "    plt.ylabel(\"True label\")\n",
    "    plt.title(title)\n",
    "    plt.savefig(filename, bbox_inches=\"tight\")\n",
    "\n",
    "\n",
    "plot_conf_matrix(\n",
    "    data[\"train\"][\"label\"],\n",
    "    train_preds,\n",
    "    \"BERT on training data\",\n",
    "    \"../img/confusion_matrix_bert_train.png\",\n",
    ")"
   ]
  },
  {
   "cell_type": "code",
   "execution_count": 8,
   "metadata": {},
   "outputs": [
    {
     "name": "stderr",
     "output_type": "stream",
     "text": [
      "100%|██████████| 6/6 [00:07<00:00,  1.17s/it]\n"
     ]
    },
    {
     "name": "stdout",
     "output_type": "stream",
     "text": [
      "Test top5 accuracy: 0.8341005967604433\n"
     ]
    }
   ],
   "source": [
    "test_preds, test_logits = get_predictions(\n",
    "    data[\"test\"][\"description\"].values, data[\"test\"][\"label\"].values\n",
    ")\n",
    "print(\n",
    "    \"Test top5 accuracy:\", top_k_accuracy_score(data[\"test\"][\"label\"], test_logits, k=5)\n",
    ")"
   ]
  },
  {
   "cell_type": "code",
   "execution_count": 9,
   "metadata": {},
   "outputs": [
    {
     "data": {
      "image/png": "[encoded data removed]",
      "text/plain": [
       "<Figure size 432x288 with 2 Axes>"
      ]
     },
     "metadata": {
      "needs_background": "light"
     },
     "output_type": "display_data"
    }
   ],
   "source": [
    "plot_conf_matrix(\n",
    "    data[\"test\"][\"label\"],\n",
    "    test_preds,\n",
    "    \"BERT on test data\",\n",
    "    \"../img/confusion_matrix_bert_test.png\",\n",
    ")"
   ]
  },
  {
   "cell_type": "code",
   "execution_count": null,
   "metadata": {},
   "outputs": [],
   "source": []
  }
 ],
 "metadata": {
  "kernelspec": {
   "display_name": "Python 3 (ipykernel)",
   "language": "python",
   "name": "python3"
  },
  "language_info": {
   "codemirror_mode": {
    "name": "ipython",
    "version": 3
   },
   "file_extension": ".py",
   "mimetype": "text/x-python",
   "name": "python",
   "nbconvert_exporter": "python",
   "pygments_lexer": "ipython3",
   "version": "3.9.12"
  },
  "vscode": {
   "interpreter": {
    "hash": "b09ec625f77bf4fd762565a912b97636504ad6ec901eb2d0f4cf5a7de23e1ee5"
   }
  }
 },
 "nbformat": 4,
 "nbformat_minor": 2
}
