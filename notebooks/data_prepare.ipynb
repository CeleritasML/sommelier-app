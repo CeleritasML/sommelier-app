{
 "cells": [
  {
   "cell_type": "code",
   "execution_count": 1,
   "metadata": {},
   "outputs": [],
   "source": [
    "import pandas as pd"
   ]
  },
  {
   "cell_type": "code",
   "execution_count": 2,
   "metadata": {},
   "outputs": [],
   "source": [
    "df = pd.read_csv(\"../data/winemag-data-130k-v2.csv\")\n",
    "df.shape\n",
    "df.rename(columns={\"Unnamed: 0\": \"id\"}, inplace=True)"
   ]
  },
  {
   "cell_type": "code",
   "execution_count": 3,
   "metadata": {},
   "outputs": [
    {
     "data": {
      "text/plain": [
       "(129907, 14)"
      ]
     },
     "execution_count": 3,
     "metadata": {},
     "output_type": "execute_result"
    }
   ],
   "source": [
    "df = df.dropna(subset=[\"country\", \"province\", \"variety\", \"description\"])\n",
    "df.shape"
   ]
  },
  {
   "cell_type": "code",
   "execution_count": 4,
   "metadata": {},
   "outputs": [
    {
     "data": {
      "text/plain": [
       "425"
      ]
     },
     "execution_count": 4,
     "metadata": {},
     "output_type": "execute_result"
    }
   ],
   "source": [
    "df[\"region\"] = df[\"country\"] + \"-\" + df[\"province\"]\n",
    "len(df[\"region\"].unique())"
   ]
  },
  {
   "cell_type": "code",
   "execution_count": 5,
   "metadata": {},
   "outputs": [
    {
     "data": {
      "text/plain": [
       "array(['Italy-Sicily & Sardinia', 'Portugal-Douro', 'US-Oregon',\n",
       "       'US-Michigan', 'Spain-Northern Spain', 'France-Alsace',\n",
       "       'Germany-Rheinhessen', 'US-California', 'Germany-Mosel',\n",
       "       'Argentina-Other'], dtype=object)"
      ]
     },
     "execution_count": 5,
     "metadata": {},
     "output_type": "execute_result"
    }
   ],
   "source": [
    "df[\"region\"].unique()[:10]"
   ]
  },
  {
   "cell_type": "code",
   "execution_count": 6,
   "metadata": {},
   "outputs": [
    {
     "data": {
      "text/plain": [
       "701"
      ]
     },
     "execution_count": 6,
     "metadata": {},
     "output_type": "execute_result"
    }
   ],
   "source": [
    "len(df[\"variety\"].unique())"
   ]
  },
  {
   "cell_type": "code",
   "execution_count": 7,
   "metadata": {},
   "outputs": [
    {
     "data": {
      "text/plain": [
       "array(['White Blend', 'Portuguese Red', 'Pinot Gris', 'Riesling',\n",
       "       'Pinot Noir', 'Tempranillo-Merlot', 'Frappato', 'Gewürztraminer',\n",
       "       'Cabernet Sauvignon', 'Nerello Mascalese'], dtype=object)"
      ]
     },
     "execution_count": 7,
     "metadata": {},
     "output_type": "execute_result"
    }
   ],
   "source": [
    "df[\"variety\"].unique()[:10]"
   ]
  },
  {
   "cell_type": "code",
   "execution_count": 8,
   "metadata": {},
   "outputs": [],
   "source": [
    "df[\"region_variety\"] = df[\"region\"] + \":\" + df[\"variety\"]"
   ]
  },
  {
   "cell_type": "code",
   "execution_count": 9,
   "metadata": {},
   "outputs": [],
   "source": [
    "region_len = len(df[\"region\"].unique())\n",
    "variety_len = len(df[\"variety\"].unique())\n",
    "region_variety_len = len(df[\"region_variety\"].unique())"
   ]
  },
  {
   "cell_type": "code",
   "execution_count": 10,
   "metadata": {},
   "outputs": [
    {
     "name": "stdout",
     "output_type": "stream",
     "text": [
      "297925 4119\n"
     ]
    }
   ],
   "source": [
    "print(region_len * variety_len, region_variety_len)"
   ]
  },
  {
   "cell_type": "code",
   "execution_count": 11,
   "metadata": {},
   "outputs": [
    {
     "data": {
      "image/png": "[encoded data removed]",
      "text/plain": [
       "<Figure size 640x480 with 1 Axes>"
      ]
     },
     "metadata": {},
     "output_type": "display_data"
    }
   ],
   "source": [
    "count = df.groupby(\"region_variety\")[\"id\"].count().sort_values()\n",
    "import matplotlib.pyplot as plt\n",
    "\n",
    "count.plot()\n",
    "plt.show()"
   ]
  },
  {
   "cell_type": "code",
   "execution_count": 12,
   "metadata": {},
   "outputs": [
    {
     "data": {
      "text/plain": [
       "region_variety\n",
       "Uruguay-Uruguay:Tannat-Cabernet Franc          1\n",
       "Italy-Northeastern Italy:Petit Manseng         1\n",
       "US-Oregon:Melon                                1\n",
       "Italy-Northeastern Italy:Merlot-Cabernet       1\n",
       "Italy-Northeastern Italy:Marzemino             1\n",
       "                                            ... \n",
       "US-Oregon:Pinot Noir                        2786\n",
       "France-Bordeaux:Bordeaux-style Red Blend    4617\n",
       "US-California:Chardonnay                    5183\n",
       "US-California:Cabernet Sauvignon            5693\n",
       "US-California:Pinot Noir                    6896\n",
       "Name: id, Length: 4119, dtype: int64"
      ]
     },
     "execution_count": 12,
     "metadata": {},
     "output_type": "execute_result"
    }
   ],
   "source": [
    "count"
   ]
  },
  {
   "cell_type": "code",
   "execution_count": 13,
   "metadata": {},
   "outputs": [
    {
     "data": {
      "text/plain": [
       "array([ 1. ,  1. ,  1. ,  1. ,  1. ,  1. ,  1. ,  1. ,  2. ,  2. ,  2. ,\n",
       "        3. ,  4. ,  5. ,  6. ,  8. , 11. , 18. , 32. , 93.1])"
      ]
     },
     "execution_count": 13,
     "metadata": {},
     "output_type": "execute_result"
    }
   ],
   "source": [
    "count_ls = count.tolist()\n",
    "import numpy as np\n",
    "\n",
    "np.quantile(count_ls, np.arange(0, 1, 0.05))"
   ]
  },
  {
   "cell_type": "code",
   "execution_count": 14,
   "metadata": {},
   "outputs": [
    {
     "data": {
      "text/plain": [
       "(117283, 16)"
      ]
     },
     "execution_count": 14,
     "metadata": {},
     "output_type": "execute_result"
    }
   ],
   "source": [
    "df = df.groupby(\"region_variety\").filter(lambda x: len(x) >= 20)\n",
    "df.shape"
   ]
  },
  {
   "cell_type": "code",
   "execution_count": 15,
   "metadata": {},
   "outputs": [
    {
     "data": {
      "text/plain": [
       "584"
      ]
     },
     "execution_count": 15,
     "metadata": {},
     "output_type": "execute_result"
    }
   ],
   "source": [
    "len(df[\"region_variety\"].unique())"
   ]
  },
  {
   "cell_type": "code",
   "execution_count": 16,
   "metadata": {},
   "outputs": [],
   "source": [
    "data = df[[\"description\", \"region_variety\"]]"
   ]
  },
  {
   "cell_type": "code",
   "execution_count": 17,
   "metadata": {},
   "outputs": [],
   "source": [
    "import json\n",
    "from sklearn.model_selection import train_test_split\n",
    "\n",
    "idx_to_label = list(data[\"region_variety\"].unique())\n",
    "with open(\"../models/idx_to_label.json\", \"w\") as f:\n",
    "    json.dump(idx_to_label, f)\n",
    "    f.write(\"\\n\")\n",
    "label_to_idx = {label: idx for idx, label in enumerate(idx_to_label)}\n",
    "with open(\"../models/label_to_idx.json\", \"w\") as f:\n",
    "    json.dump(label_to_idx, f)\n",
    "    f.write(\"\\n\")\n",
    "\n",
    "random_seed = 42\n",
    "\n",
    "train_indices, val_test_indices, _, _ = train_test_split(\n",
    "    range(data.shape[0]),\n",
    "    data[\"region_variety\"],\n",
    "    test_size=0.1,\n",
    "    stratify=data[\"region_variety\"],\n",
    "    random_state=random_seed,\n",
    ")\n",
    "\n",
    "train_set = data.iloc[train_indices]\n",
    "val_test_set = data.iloc[val_test_indices]\n",
    "\n",
    "val_indices, test_indices, _, _ = train_test_split(\n",
    "    range(val_test_set.shape[0]),\n",
    "    val_test_set[\"region_variety\"],\n",
    "    test_size=0.5,\n",
    "    stratify=val_test_set[\"region_variety\"],\n",
    "    random_state=random_seed,\n",
    ")\n",
    "\n",
    "val_set = val_test_set.iloc[val_indices]\n",
    "test_set = val_test_set.iloc[test_indices]\n",
    "\n",
    "dataset = {\"train\": train_set, \"val\": val_set, \"test\": test_set}"
   ]
  },
  {
   "cell_type": "code",
   "execution_count": 18,
   "metadata": {},
   "outputs": [],
   "source": [
    "for k, v in dataset.items():\n",
    "    v.to_csv(f\"../data/wine_cleaned_{k}.csv\", index=False)"
   ]
  }
 ],
 "metadata": {
  "kernelspec": {
   "display_name": "Python 3.8.8 ('fall-2022-anly605-WCRL2d2A-py3.8')",
   "language": "python",
   "name": "python3"
  },
  "language_info": {
   "codemirror_mode": {
    "name": "ipython",
    "version": 3
   },
   "file_extension": ".py",
   "mimetype": "text/x-python",
   "name": "python",
   "nbconvert_exporter": "python",
   "pygments_lexer": "ipython3",
   "version": "3.8.8"
  },
  "orig_nbformat": 4,
  "vscode": {
   "interpreter": {
    "hash": "76f4762584a2ae39fa8edebc4f1b01f5629ed1c8abd67aa9d1659a1395ab5ba1"
   }
  }
 },
 "nbformat": 4,
 "nbformat_minor": 2
}
