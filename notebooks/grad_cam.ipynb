{
 "cells": [
  {
   "cell_type": "code",
   "execution_count": 1,
   "metadata": {},
   "outputs": [],
   "source": [
    "import numpy as np\n",
    "import matplotlib.pyplot as plt\n",
    "import torch\n",
    "from transformers import AutoTokenizer\n",
    "\n",
    "import sys\n",
    "\n",
    "sys.path.append(\"..\")\n",
    "from src.model import WineBert"
   ]
  },
  {
   "cell_type": "code",
   "execution_count": 2,
   "metadata": {},
   "outputs": [
    {
     "name": "stderr",
     "output_type": "stream",
     "text": [
      "Some weights of the model checkpoint at google/bert_uncased_L-4_H-256_A-4 were not used when initializing BertForSequenceClassification: ['cls.predictions.transform.LayerNorm.weight', 'cls.predictions.decoder.weight', 'cls.predictions.decoder.bias', 'cls.predictions.transform.dense.weight', 'cls.predictions.transform.LayerNorm.bias', 'cls.seq_relationship.bias', 'cls.predictions.transform.dense.bias', 'cls.predictions.bias', 'cls.seq_relationship.weight']\n",
      "- This IS expected if you are initializing BertForSequenceClassification from the checkpoint of a model trained on another task or with another architecture (e.g. initializing a BertForSequenceClassification model from a BertForPreTraining model).\n",
      "- This IS NOT expected if you are initializing BertForSequenceClassification from the checkpoint of a model that you expect to be exactly identical (initializing a BertForSequenceClassification model from a BertForSequenceClassification model).\n",
      "Some weights of BertForSequenceClassification were not initialized from the model checkpoint at google/bert_uncased_L-4_H-256_A-4 and are newly initialized: ['classifier.bias', 'classifier.weight']\n",
      "You should probably TRAIN this model on a down-stream task to be able to use it for predictions and inference.\n"
     ]
    }
   ],
   "source": [
    "# Load checkpoint\n",
    "wine_bert = WineBert.load_from_checkpoint(\"../models/bert-mini-finetune.ckpt\")"
   ]
  },
  {
   "cell_type": "code",
   "execution_count": 3,
   "metadata": {},
   "outputs": [
    {
     "data": {
      "text/plain": [
       "BertForSequenceClassification(\n",
       "  (bert): BertModel(\n",
       "    (embeddings): BertEmbeddings(\n",
       "      (word_embeddings): Embedding(30522, 256, padding_idx=0)\n",
       "      (position_embeddings): Embedding(512, 256)\n",
       "      (token_type_embeddings): Embedding(2, 256)\n",
       "      (LayerNorm): LayerNorm((256,), eps=1e-12, elementwise_affine=True)\n",
       "      (dropout): Dropout(p=0.1, inplace=False)\n",
       "    )\n",
       "    (encoder): BertEncoder(\n",
       "      (layer): ModuleList(\n",
       "        (0): BertLayer(\n",
       "          (attention): BertAttention(\n",
       "            (self): BertSelfAttention(\n",
       "              (query): Linear(in_features=256, out_features=256, bias=True)\n",
       "              (key): Linear(in_features=256, out_features=256, bias=True)\n",
       "              (value): Linear(in_features=256, out_features=256, bias=True)\n",
       "              (dropout): Dropout(p=0.1, inplace=False)\n",
       "            )\n",
       "            (output): BertSelfOutput(\n",
       "              (dense): Linear(in_features=256, out_features=256, bias=True)\n",
       "              (LayerNorm): LayerNorm((256,), eps=1e-12, elementwise_affine=True)\n",
       "              (dropout): Dropout(p=0.1, inplace=False)\n",
       "            )\n",
       "          )\n",
       "          (intermediate): BertIntermediate(\n",
       "            (dense): Linear(in_features=256, out_features=1024, bias=True)\n",
       "            (intermediate_act_fn): GELUActivation()\n",
       "          )\n",
       "          (output): BertOutput(\n",
       "            (dense): Linear(in_features=1024, out_features=256, bias=True)\n",
       "            (LayerNorm): LayerNorm((256,), eps=1e-12, elementwise_affine=True)\n",
       "            (dropout): Dropout(p=0.1, inplace=False)\n",
       "          )\n",
       "        )\n",
       "        (1): BertLayer(\n",
       "          (attention): BertAttention(\n",
       "            (self): BertSelfAttention(\n",
       "              (query): Linear(in_features=256, out_features=256, bias=True)\n",
       "              (key): Linear(in_features=256, out_features=256, bias=True)\n",
       "              (value): Linear(in_features=256, out_features=256, bias=True)\n",
       "              (dropout): Dropout(p=0.1, inplace=False)\n",
       "            )\n",
       "            (output): BertSelfOutput(\n",
       "              (dense): Linear(in_features=256, out_features=256, bias=True)\n",
       "              (LayerNorm): LayerNorm((256,), eps=1e-12, elementwise_affine=True)\n",
       "              (dropout): Dropout(p=0.1, inplace=False)\n",
       "            )\n",
       "          )\n",
       "          (intermediate): BertIntermediate(\n",
       "            (dense): Linear(in_features=256, out_features=1024, bias=True)\n",
       "            (intermediate_act_fn): GELUActivation()\n",
       "          )\n",
       "          (output): BertOutput(\n",
       "            (dense): Linear(in_features=1024, out_features=256, bias=True)\n",
       "            (LayerNorm): LayerNorm((256,), eps=1e-12, elementwise_affine=True)\n",
       "            (dropout): Dropout(p=0.1, inplace=False)\n",
       "          )\n",
       "        )\n",
       "        (2): BertLayer(\n",
       "          (attention): BertAttention(\n",
       "            (self): BertSelfAttention(\n",
       "              (query): Linear(in_features=256, out_features=256, bias=True)\n",
       "              (key): Linear(in_features=256, out_features=256, bias=True)\n",
       "              (value): Linear(in_features=256, out_features=256, bias=True)\n",
       "              (dropout): Dropout(p=0.1, inplace=False)\n",
       "            )\n",
       "            (output): BertSelfOutput(\n",
       "              (dense): Linear(in_features=256, out_features=256, bias=True)\n",
       "              (LayerNorm): LayerNorm((256,), eps=1e-12, elementwise_affine=True)\n",
       "              (dropout): Dropout(p=0.1, inplace=False)\n",
       "            )\n",
       "          )\n",
       "          (intermediate): BertIntermediate(\n",
       "            (dense): Linear(in_features=256, out_features=1024, bias=True)\n",
       "            (intermediate_act_fn): GELUActivation()\n",
       "          )\n",
       "          (output): BertOutput(\n",
       "            (dense): Linear(in_features=1024, out_features=256, bias=True)\n",
       "            (LayerNorm): LayerNorm((256,), eps=1e-12, elementwise_affine=True)\n",
       "            (dropout): Dropout(p=0.1, inplace=False)\n",
       "          )\n",
       "        )\n",
       "        (3): BertLayer(\n",
       "          (attention): BertAttention(\n",
       "            (self): BertSelfAttention(\n",
       "              (query): Linear(in_features=256, out_features=256, bias=True)\n",
       "              (key): Linear(in_features=256, out_features=256, bias=True)\n",
       "              (value): Linear(in_features=256, out_features=256, bias=True)\n",
       "              (dropout): Dropout(p=0.1, inplace=False)\n",
       "            )\n",
       "            (output): BertSelfOutput(\n",
       "              (dense): Linear(in_features=256, out_features=256, bias=True)\n",
       "              (LayerNorm): LayerNorm((256,), eps=1e-12, elementwise_affine=True)\n",
       "              (dropout): Dropout(p=0.1, inplace=False)\n",
       "            )\n",
       "          )\n",
       "          (intermediate): BertIntermediate(\n",
       "            (dense): Linear(in_features=256, out_features=1024, bias=True)\n",
       "            (intermediate_act_fn): GELUActivation()\n",
       "          )\n",
       "          (output): BertOutput(\n",
       "            (dense): Linear(in_features=1024, out_features=256, bias=True)\n",
       "            (LayerNorm): LayerNorm((256,), eps=1e-12, elementwise_affine=True)\n",
       "            (dropout): Dropout(p=0.1, inplace=False)\n",
       "          )\n",
       "        )\n",
       "      )\n",
       "    )\n",
       "    (pooler): BertPooler(\n",
       "      (dense): Linear(in_features=256, out_features=256, bias=True)\n",
       "      (activation): Tanh()\n",
       "    )\n",
       "  )\n",
       "  (dropout): Dropout(p=0.1, inplace=False)\n",
       "  (classifier): Linear(in_features=256, out_features=584, bias=True)\n",
       ")"
      ]
     },
     "execution_count": 3,
     "metadata": {},
     "output_type": "execute_result"
    }
   ],
   "source": [
    "bert_classifier = wine_bert.model\n",
    "bert_classifier.eval()"
   ]
  },
  {
   "cell_type": "code",
   "execution_count": 4,
   "metadata": {},
   "outputs": [],
   "source": [
    "bert = bert_classifier.bert\n",
    "classifier = bert_classifier.classifier"
   ]
  },
  {
   "cell_type": "code",
   "execution_count": 5,
   "metadata": {},
   "outputs": [
    {
     "data": {
      "text/plain": [
       "BertOutput(\n",
       "  (dense): Linear(in_features=1024, out_features=256, bias=True)\n",
       "  (LayerNorm): LayerNorm((256,), eps=1e-12, elementwise_affine=True)\n",
       "  (dropout): Dropout(p=0.1, inplace=False)\n",
       ")"
      ]
     },
     "execution_count": 5,
     "metadata": {},
     "output_type": "execute_result"
    }
   ],
   "source": [
    "bert.encoder.layer[3].output"
   ]
  },
  {
   "cell_type": "code",
   "execution_count": 6,
   "metadata": {},
   "outputs": [],
   "source": [
    "tokenizer = AutoTokenizer.from_pretrained(\"bert-base-uncased\")"
   ]
  },
  {
   "cell_type": "code",
   "execution_count": 7,
   "metadata": {},
   "outputs": [],
   "source": [
    "text = \"The deep red-black color reaches from core to rim. The fragrant nose centers around hot chocolate and candied cherries. Dry on the attack with adequate acidity, the wine shows moderate extraction and medium alcohol that lead to a short finish.\"\n",
    "inputs = tokenizer(text, return_tensors=\"pt\")"
   ]
  },
  {
   "cell_type": "code",
   "execution_count": 8,
   "metadata": {},
   "outputs": [
    {
     "data": {
      "text/plain": [
       "{'input_ids': tensor([[  101,  1996,  2784,  2417,  1011,  2304,  3609,  6561,  2013,  4563,\n",
       "          2000, 11418,  1012,  1996, 25312, 18980,  4451,  6401,  2105,  2980,\n",
       "          7967,  1998, 27467,  2098, 24188,  5134,  1012,  4318,  2006,  1996,\n",
       "          2886,  2007, 11706,  5648,  3012,  1010,  1996,  4511,  3065,  8777,\n",
       "         14676,  1998,  5396,  6544,  2008,  2599,  2000,  1037,  2460,  3926,\n",
       "          1012,   102]]), 'token_type_ids': tensor([[0, 0, 0, 0, 0, 0, 0, 0, 0, 0, 0, 0, 0, 0, 0, 0, 0, 0, 0, 0, 0, 0, 0, 0,\n",
       "         0, 0, 0, 0, 0, 0, 0, 0, 0, 0, 0, 0, 0, 0, 0, 0, 0, 0, 0, 0, 0, 0, 0, 0,\n",
       "         0, 0, 0, 0]]), 'attention_mask': tensor([[1, 1, 1, 1, 1, 1, 1, 1, 1, 1, 1, 1, 1, 1, 1, 1, 1, 1, 1, 1, 1, 1, 1, 1,\n",
       "         1, 1, 1, 1, 1, 1, 1, 1, 1, 1, 1, 1, 1, 1, 1, 1, 1, 1, 1, 1, 1, 1, 1, 1,\n",
       "         1, 1, 1, 1]])}"
      ]
     },
     "execution_count": 8,
     "metadata": {},
     "output_type": "execute_result"
    }
   ],
   "source": [
    "inputs"
   ]
  },
  {
   "cell_type": "code",
   "execution_count": 9,
   "metadata": {},
   "outputs": [
    {
     "data": {
      "text/plain": [
       "torch.Size([1, 52])"
      ]
     },
     "execution_count": 9,
     "metadata": {},
     "output_type": "execute_result"
    }
   ],
   "source": [
    "inputs[\"input_ids\"].shape"
   ]
  },
  {
   "cell_type": "code",
   "execution_count": 10,
   "metadata": {},
   "outputs": [],
   "source": [
    "def convert_id_to_vocab(tokenizer, input_ids):\n",
    "    vocab = tokenizer.get_vocab()\n",
    "    id_to_token = {v: k for k, v in vocab.items()}\n",
    "    tokens = []\n",
    "    for row in input_ids:\n",
    "        token = [id_to_token[int(i)] for i in row]\n",
    "        tokens += [token]\n",
    "    return tokens"
   ]
  },
  {
   "cell_type": "code",
   "execution_count": 11,
   "metadata": {},
   "outputs": [],
   "source": [
    "tokens = convert_id_to_vocab(tokenizer, inputs[\"input_ids\"])"
   ]
  },
  {
   "cell_type": "code",
   "execution_count": 12,
   "metadata": {},
   "outputs": [],
   "source": [
    "output = bert(**inputs)"
   ]
  },
  {
   "cell_type": "code",
   "execution_count": 13,
   "metadata": {},
   "outputs": [
    {
     "data": {
      "text/plain": [
       "BaseModelOutputWithPoolingAndCrossAttentions(last_hidden_state=tensor([[[-1.1698, -0.6812,  0.4613,  ...,  0.5151,  0.5006, -0.4524],\n",
       "         [-1.8724, -0.8934,  1.2267,  ..., -0.7405,  0.1288, -2.2521],\n",
       "         [ 0.0290, -0.3335,  0.5898,  ...,  1.1127,  0.1469, -0.9737],\n",
       "         ...,\n",
       "         [ 0.0621, -0.0561,  1.3614,  ...,  1.2573,  0.1305, -1.2296],\n",
       "         [-0.3848, -0.4755,  0.7629,  ...,  0.9349,  0.3439, -0.5901],\n",
       "         [-1.5469, -0.7537,  0.9267,  ..., -0.2165,  0.7236, -0.5530]]],\n",
       "       grad_fn=<NativeLayerNormBackward0>), pooler_output=tensor([[-0.9571, -0.8636,  1.0000,  0.9916,  0.9923, -0.4283,  0.9444,  0.1384,\n",
       "         -0.9982, -0.9887,  0.2863, -0.8664, -0.2668, -0.9997,  0.9876,  0.9876,\n",
       "         -0.3717, -0.4933,  1.0000,  0.9993,  1.0000, -0.9908, -0.9174, -0.9979,\n",
       "         -1.0000, -0.8681,  0.9989,  0.9967,  0.5909, -0.9992, -0.9999, -0.9990,\n",
       "          0.0474, -0.9353,  0.9958,  0.9988, -0.2013,  0.9997,  0.9948,  0.9409,\n",
       "         -0.9574,  0.5177,  0.9956, -0.9958,  0.9949, -0.4917,  0.8885,  1.0000,\n",
       "          0.8105,  0.9999, -0.1092,  0.9998, -0.9969, -0.1343,  0.9972, -0.9888,\n",
       "         -0.9983, -0.9229, -0.9988,  0.9766, -0.0140, -0.9347, -0.9998,  0.9984,\n",
       "         -0.6221, -0.9954, -0.7141, -0.9928, -0.7613, -0.8567, -0.9190, -0.6292,\n",
       "          0.9172, -0.9852, -0.9924,  0.9842, -1.0000, -0.9803, -0.8970, -0.6977,\n",
       "          0.0962,  0.9528, -0.2282, -0.9120, -0.9848, -0.8224, -0.7378,  0.5966,\n",
       "          0.8269,  1.0000, -0.9984, -0.9808,  0.9961,  0.9995,  0.7499,  0.9958,\n",
       "         -0.2324,  0.1545,  0.1577,  0.9709,  0.9965, -0.9993,  0.9968, -0.9948,\n",
       "          1.0000,  0.5897,  0.9385,  0.7588,  0.9725,  0.9618, -0.8864,  0.2782,\n",
       "         -0.9769,  0.9647, -0.9992,  0.9961,  0.8471, -0.9957,  0.9997, -0.8998,\n",
       "          0.9520,  0.4194, -0.2019,  0.5058, -0.8561, -0.9998, -0.6601,  0.9508,\n",
       "         -0.8506,  0.9996,  0.9829, -0.9974,  0.9775,  0.8021,  0.9414, -0.9999,\n",
       "         -0.9233,  0.9979,  0.9999,  0.9945,  0.9705,  1.0000,  0.9980, -0.6247,\n",
       "          0.9958, -0.7298, -0.9945, -0.9980, -0.9505,  0.9984, -0.7878, -0.8910,\n",
       "          0.4628,  0.9966, -0.8995, -0.9441, -0.9806,  0.9970, -0.1379, -0.9999,\n",
       "          0.9975, -1.0000, -1.0000,  0.8931, -0.8092, -0.9996,  0.8026,  0.5363,\n",
       "          0.9481, -0.1939, -0.8449, -0.9259, -0.9995,  0.9875,  0.9942,  0.9998,\n",
       "         -0.9999, -0.0224,  0.9997,  0.9960,  0.6701,  0.9028,  0.9928,  0.9856,\n",
       "         -0.8321,  0.9999, -0.9999,  0.9999,  0.9989, -0.9922, -0.1397,  0.8992,\n",
       "         -0.9996, -0.9902, -0.7397, -0.9997, -0.7636,  0.9756, -0.9888,  0.9992,\n",
       "         -0.9999, -0.7366, -0.5899, -0.8785, -0.9991,  0.9997, -0.9982, -0.9893,\n",
       "          0.9236,  0.9646,  0.4184,  0.9997,  1.0000,  0.9899, -0.9570, -0.9199,\n",
       "         -0.9284,  0.9968,  0.9124,  0.9907,  0.9966,  0.7133, -0.9998, -0.4416,\n",
       "         -0.9996,  0.9993, -0.8020, -0.8895,  0.9975, -0.9999, -0.9666, -1.0000,\n",
       "         -0.9612, -0.9825,  0.9810,  0.9834,  0.9475, -0.9945,  0.9356,  0.7983,\n",
       "          0.6835, -0.9887, -0.9327, -0.9765,  0.9966, -0.9999,  0.9988,  0.7247,\n",
       "          0.9998,  0.9997, -0.9785, -0.7911,  0.8039, -0.9836,  1.0000, -0.8378]],\n",
       "       grad_fn=<TanhBackward0>), hidden_states=None, past_key_values=None, attentions=None, cross_attentions=None)"
      ]
     },
     "execution_count": 13,
     "metadata": {},
     "output_type": "execute_result"
    }
   ],
   "source": [
    "output"
   ]
  },
  {
   "cell_type": "code",
   "execution_count": 14,
   "metadata": {},
   "outputs": [
    {
     "data": {
      "text/plain": [
       "torch.Size([1, 52, 256])"
      ]
     },
     "execution_count": 14,
     "metadata": {},
     "output_type": "execute_result"
    }
   ],
   "source": [
    "output.last_hidden_state.shape"
   ]
  },
  {
   "cell_type": "code",
   "execution_count": 15,
   "metadata": {},
   "outputs": [],
   "source": [
    "class LayerHook:\n",
    "    def __init__(self, model, target_layers):\n",
    "        self.model = model\n",
    "        self.backwards = []\n",
    "        self.forwards = []\n",
    "        self.hooks = []\n",
    "        for layer in target_layers:\n",
    "            self.hooks += [layer.register_forward_hook(self.save_forward)]\n",
    "            self.hooks += [layer.register_full_backward_hook(self.save_backward)]\n",
    "\n",
    "    def save_forward(self, module, input, output):\n",
    "        self.forwards += [output[0].cpu().detach()]\n",
    "\n",
    "    def save_backward(self, module, grad_input, grad_output):\n",
    "        self.backwards = [grad_output[0].cpu().detach()] + self.backwards\n",
    "\n",
    "    def __call__(self, **kwargs):\n",
    "        self.backwards = []\n",
    "        self.forwards = []\n",
    "        return self.model(**kwargs)\n",
    "\n",
    "    def release(self):\n",
    "        [hook.remove() for hook in self.hooks]"
   ]
  },
  {
   "cell_type": "code",
   "execution_count": 16,
   "metadata": {},
   "outputs": [],
   "source": [
    "layerhook = LayerHook(bert_classifier, [bert.encoder.layer[3]])"
   ]
  },
  {
   "cell_type": "code",
   "execution_count": 17,
   "metadata": {},
   "outputs": [],
   "source": [
    "output = layerhook(**inputs)\n",
    "# output"
   ]
  },
  {
   "cell_type": "code",
   "execution_count": 18,
   "metadata": {},
   "outputs": [
    {
     "data": {
      "text/plain": [
       "torch.Size([1, 52, 256])"
      ]
     },
     "execution_count": 18,
     "metadata": {},
     "output_type": "execute_result"
    }
   ],
   "source": [
    "layerhook.forwards[0].shape"
   ]
  },
  {
   "cell_type": "code",
   "execution_count": 19,
   "metadata": {},
   "outputs": [],
   "source": [
    "class GradCAMForBert:\n",
    "    def __init__(self, model, targer_layers):\n",
    "        self.model = model\n",
    "        self.model.eval()\n",
    "        self.target_layers = targer_layers\n",
    "        self.layer_hook = LayerHook(model, targer_layers)\n",
    "\n",
    "    def __call__(self, inputs, target_category=None):\n",
    "        # Forward\n",
    "        input_tensor = inputs[\"input_ids\"]\n",
    "\n",
    "        output = self.layer_hook(**inputs)\n",
    "        logits = output.logits\n",
    "\n",
    "        if isinstance(target_category, int):\n",
    "            target_category = [target_category] * input_tensor.size(0)\n",
    "\n",
    "        if target_category is None:\n",
    "            target_category = np.argmax(logits.cpu().detach().numpy(), axis=-1)\n",
    "            print(\n",
    "                f\"target_category not provided, use top 1 predictions: {target_category}\"\n",
    "            )\n",
    "\n",
    "        # Backward\n",
    "        self.model.zero_grad()\n",
    "        loss = 0\n",
    "        for i, c in enumerate(target_category):\n",
    "            loss = loss + logits[i, c]\n",
    "        loss.backward(retain_graph=True)\n",
    "\n",
    "        # Calculate GradCAM\n",
    "        cams = []\n",
    "\n",
    "        forwards, backwards = self.layer_hook.forwards, self.layer_hook.backwards\n",
    "        for f, b in zip(forwards, backwards):\n",
    "            weight = np.mean(b.numpy(), axis=2, keepdims=True)  # b is grad\n",
    "            weight_f = weight * f.numpy()\n",
    "            cam = weight_f.sum(axis=2)\n",
    "            cam[cam < 0] = 0  # ReLU\n",
    "            cams += [cam]\n",
    "\n",
    "        # Average multi layer cam\n",
    "        cams = np.stack(cams, axis=0)\n",
    "        cams = cams.mean(axis=0)\n",
    "\n",
    "        # Normalize by row\n",
    "        cams = (cams - cams.min(axis=1, keepdims=True)) / (\n",
    "            cams.max(axis=1, keepdims=True) - cams.min(axis=1, keepdims=True)\n",
    "        )\n",
    "\n",
    "        return cams"
   ]
  },
  {
   "cell_type": "code",
   "execution_count": 20,
   "metadata": {},
   "outputs": [],
   "source": [
    "gradcam = GradCAMForBert(bert_classifier, [bert.encoder.layer[2]])"
   ]
  },
  {
   "cell_type": "code",
   "execution_count": 21,
   "metadata": {},
   "outputs": [],
   "source": [
    "def aggregate_wordpiece(token, cam, remove_cls_sep=True):\n",
    "    agg = []\n",
    "    cur_tc = None\n",
    "    for t, c in zip(token, cam):\n",
    "        if t.startswith(\"##\"):\n",
    "            cur_tc[0] += t[2:]\n",
    "            cur_tc[1] + c\n",
    "        else:\n",
    "            if cur_tc is not None:\n",
    "                agg += [tuple(cur_tc)]\n",
    "            cur_tc = [t, c]\n",
    "    agg += [tuple(cur_tc)]\n",
    "    if remove_cls_sep:\n",
    "        agg = agg[1:-2]\n",
    "    return agg"
   ]
  },
  {
   "cell_type": "code",
   "execution_count": 22,
   "metadata": {},
   "outputs": [],
   "source": [
    "def plot_cam(token, cam, agg_wordpiece=True, remove_cls_sep=True):\n",
    "    plt.figure(figsize=(15, 10))\n",
    "    if agg_wordpiece:\n",
    "        agg = aggregate_wordpiece(token, cam, remove_cls_sep)\n",
    "        token, cam = list(zip(*agg))\n",
    "    pos = range(len(cam))\n",
    "    plt.imshow([cam], cmap=\"YlGnBu\")\n",
    "    plt.xticks(pos, token, rotation=90)\n",
    "    plt.yticks([])"
   ]
  },
  {
   "cell_type": "code",
   "execution_count": 23,
   "metadata": {},
   "outputs": [
    {
     "data": {
      "image/png": "[encoded data removed]",
      "text/plain": [
       "<Figure size 1500x1000 with 1 Axes>"
      ]
     },
     "metadata": {},
     "output_type": "display_data"
    }
   ],
   "source": [
    "cams_true_label = gradcam(inputs, target_category=265)\n",
    "plot_cam(tokens[0], cams_true_label[0])"
   ]
  },
  {
   "cell_type": "code",
   "execution_count": 24,
   "metadata": {},
   "outputs": [
    {
     "name": "stdout",
     "output_type": "stream",
     "text": [
      "target_category not provided, use top 1 predictions: [441]\n"
     ]
    },
    {
     "data": {
      "image/png": "[encoded data removed]",
      "text/plain": [
       "<Figure size 1500x1000 with 1 Axes>"
      ]
     },
     "metadata": {},
     "output_type": "display_data"
    }
   ],
   "source": [
    "cams_top1 = gradcam(inputs, target_category=None)\n",
    "plot_cam(tokens[0], cams_top1[0])"
   ]
  },
  {
   "cell_type": "code",
   "execution_count": null,
   "metadata": {},
   "outputs": [],
   "source": []
  }
 ],
 "metadata": {
  "kernelspec": {
   "display_name": "Python 3 (ipykernel)",
   "language": "python",
   "name": "python3"
  },
  "language_info": {
   "codemirror_mode": {
    "name": "ipython",
    "version": 3
   },
   "file_extension": ".py",
   "mimetype": "text/x-python",
   "name": "python",
   "nbconvert_exporter": "python",
   "pygments_lexer": "ipython3",
   "version": "3.9.12"
  },
  "vscode": {
   "interpreter": {
    "hash": "369f2c481f4da34e4445cda3fffd2e751bd1c4d706f27375911949ba6bb62e1c"
   }
  }
 },
 "nbformat": 4,
 "nbformat_minor": 2
}
