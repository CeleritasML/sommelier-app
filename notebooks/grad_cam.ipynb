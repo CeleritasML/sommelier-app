{
 "cells": [
  {
   "cell_type": "code",
   "execution_count": 1,
   "metadata": {},
   "outputs": [],
   "source": [
    "import numpy as np\n",
    "import matplotlib.pyplot as plt\n",
    "import torch\n",
    "from transformers import AutoTokenizer\n",
    "\n",
    "import sys\n",
    "\n",
    "sys.path.append(\"..\")\n",
    "from src.model import WineBert"
   ]
  },
  {
   "cell_type": "code",
   "execution_count": 2,
   "metadata": {},
   "outputs": [
    {
     "name": "stderr",
     "output_type": "stream",
     "text": [
      "Some weights of the model checkpoint at google/bert_uncased_L-4_H-256_A-4 were not used when initializing BertForSequenceClassification: ['cls.predictions.transform.dense.bias', 'cls.predictions.transform.dense.weight', 'cls.predictions.decoder.bias', 'cls.seq_relationship.bias', 'cls.predictions.decoder.weight', 'cls.predictions.transform.LayerNorm.weight', 'cls.predictions.bias', 'cls.seq_relationship.weight', 'cls.predictions.transform.LayerNorm.bias']\n",
      "- This IS expected if you are initializing BertForSequenceClassification from the checkpoint of a model trained on another task or with another architecture (e.g. initializing a BertForSequenceClassification model from a BertForPreTraining model).\n",
      "- This IS NOT expected if you are initializing BertForSequenceClassification from the checkpoint of a model that you expect to be exactly identical (initializing a BertForSequenceClassification model from a BertForSequenceClassification model).\n",
      "Some weights of BertForSequenceClassification were not initialized from the model checkpoint at google/bert_uncased_L-4_H-256_A-4 and are newly initialized: ['classifier.weight', 'classifier.bias']\n",
      "You should probably TRAIN this model on a down-stream task to be able to use it for predictions and inference.\n"
     ]
    }
   ],
   "source": [
    "# Load checkpoint\n",
    "wine_bert = WineBert.load_from_checkpoint(\"../models/bert-mini-finetune.ckpt\")"
   ]
  },
  {
   "cell_type": "code",
   "execution_count": 3,
   "metadata": {},
   "outputs": [
    {
     "data": {
      "text/plain": [
       "BertForSequenceClassification(\n",
       "  (bert): BertModel(\n",
       "    (embeddings): BertEmbeddings(\n",
       "      (word_embeddings): Embedding(30522, 256, padding_idx=0)\n",
       "      (position_embeddings): Embedding(512, 256)\n",
       "      (token_type_embeddings): Embedding(2, 256)\n",
       "      (LayerNorm): LayerNorm((256,), eps=1e-12, elementwise_affine=True)\n",
       "      (dropout): Dropout(p=0.1, inplace=False)\n",
       "    )\n",
       "    (encoder): BertEncoder(\n",
       "      (layer): ModuleList(\n",
       "        (0): BertLayer(\n",
       "          (attention): BertAttention(\n",
       "            (self): BertSelfAttention(\n",
       "              (query): Linear(in_features=256, out_features=256, bias=True)\n",
       "              (key): Linear(in_features=256, out_features=256, bias=True)\n",
       "              (value): Linear(in_features=256, out_features=256, bias=True)\n",
       "              (dropout): Dropout(p=0.1, inplace=False)\n",
       "            )\n",
       "            (output): BertSelfOutput(\n",
       "              (dense): Linear(in_features=256, out_features=256, bias=True)\n",
       "              (LayerNorm): LayerNorm((256,), eps=1e-12, elementwise_affine=True)\n",
       "              (dropout): Dropout(p=0.1, inplace=False)\n",
       "            )\n",
       "          )\n",
       "          (intermediate): BertIntermediate(\n",
       "            (dense): Linear(in_features=256, out_features=1024, bias=True)\n",
       "            (intermediate_act_fn): GELUActivation()\n",
       "          )\n",
       "          (output): BertOutput(\n",
       "            (dense): Linear(in_features=1024, out_features=256, bias=True)\n",
       "            (LayerNorm): LayerNorm((256,), eps=1e-12, elementwise_affine=True)\n",
       "            (dropout): Dropout(p=0.1, inplace=False)\n",
       "          )\n",
       "        )\n",
       "        (1): BertLayer(\n",
       "          (attention): BertAttention(\n",
       "            (self): BertSelfAttention(\n",
       "              (query): Linear(in_features=256, out_features=256, bias=True)\n",
       "              (key): Linear(in_features=256, out_features=256, bias=True)\n",
       "              (value): Linear(in_features=256, out_features=256, bias=True)\n",
       "              (dropout): Dropout(p=0.1, inplace=False)\n",
       "            )\n",
       "            (output): BertSelfOutput(\n",
       "              (dense): Linear(in_features=256, out_features=256, bias=True)\n",
       "              (LayerNorm): LayerNorm((256,), eps=1e-12, elementwise_affine=True)\n",
       "              (dropout): Dropout(p=0.1, inplace=False)\n",
       "            )\n",
       "          )\n",
       "          (intermediate): BertIntermediate(\n",
       "            (dense): Linear(in_features=256, out_features=1024, bias=True)\n",
       "            (intermediate_act_fn): GELUActivation()\n",
       "          )\n",
       "          (output): BertOutput(\n",
       "            (dense): Linear(in_features=1024, out_features=256, bias=True)\n",
       "            (LayerNorm): LayerNorm((256,), eps=1e-12, elementwise_affine=True)\n",
       "            (dropout): Dropout(p=0.1, inplace=False)\n",
       "          )\n",
       "        )\n",
       "        (2): BertLayer(\n",
       "          (attention): BertAttention(\n",
       "            (self): BertSelfAttention(\n",
       "              (query): Linear(in_features=256, out_features=256, bias=True)\n",
       "              (key): Linear(in_features=256, out_features=256, bias=True)\n",
       "              (value): Linear(in_features=256, out_features=256, bias=True)\n",
       "              (dropout): Dropout(p=0.1, inplace=False)\n",
       "            )\n",
       "            (output): BertSelfOutput(\n",
       "              (dense): Linear(in_features=256, out_features=256, bias=True)\n",
       "              (LayerNorm): LayerNorm((256,), eps=1e-12, elementwise_affine=True)\n",
       "              (dropout): Dropout(p=0.1, inplace=False)\n",
       "            )\n",
       "          )\n",
       "          (intermediate): BertIntermediate(\n",
       "            (dense): Linear(in_features=256, out_features=1024, bias=True)\n",
       "            (intermediate_act_fn): GELUActivation()\n",
       "          )\n",
       "          (output): BertOutput(\n",
       "            (dense): Linear(in_features=1024, out_features=256, bias=True)\n",
       "            (LayerNorm): LayerNorm((256,), eps=1e-12, elementwise_affine=True)\n",
       "            (dropout): Dropout(p=0.1, inplace=False)\n",
       "          )\n",
       "        )\n",
       "        (3): BertLayer(\n",
       "          (attention): BertAttention(\n",
       "            (self): BertSelfAttention(\n",
       "              (query): Linear(in_features=256, out_features=256, bias=True)\n",
       "              (key): Linear(in_features=256, out_features=256, bias=True)\n",
       "              (value): Linear(in_features=256, out_features=256, bias=True)\n",
       "              (dropout): Dropout(p=0.1, inplace=False)\n",
       "            )\n",
       "            (output): BertSelfOutput(\n",
       "              (dense): Linear(in_features=256, out_features=256, bias=True)\n",
       "              (LayerNorm): LayerNorm((256,), eps=1e-12, elementwise_affine=True)\n",
       "              (dropout): Dropout(p=0.1, inplace=False)\n",
       "            )\n",
       "          )\n",
       "          (intermediate): BertIntermediate(\n",
       "            (dense): Linear(in_features=256, out_features=1024, bias=True)\n",
       "            (intermediate_act_fn): GELUActivation()\n",
       "          )\n",
       "          (output): BertOutput(\n",
       "            (dense): Linear(in_features=1024, out_features=256, bias=True)\n",
       "            (LayerNorm): LayerNorm((256,), eps=1e-12, elementwise_affine=True)\n",
       "            (dropout): Dropout(p=0.1, inplace=False)\n",
       "          )\n",
       "        )\n",
       "      )\n",
       "    )\n",
       "    (pooler): BertPooler(\n",
       "      (dense): Linear(in_features=256, out_features=256, bias=True)\n",
       "      (activation): Tanh()\n",
       "    )\n",
       "  )\n",
       "  (dropout): Dropout(p=0.1, inplace=False)\n",
       "  (classifier): Linear(in_features=256, out_features=584, bias=True)\n",
       ")"
      ]
     },
     "execution_count": 3,
     "metadata": {},
     "output_type": "execute_result"
    }
   ],
   "source": [
    "bert_classifier = wine_bert.model\n",
    "bert_classifier.eval()"
   ]
  },
  {
   "cell_type": "code",
   "execution_count": 4,
   "metadata": {},
   "outputs": [],
   "source": [
    "bert = bert_classifier.bert\n",
    "classifier = bert_classifier.classifier"
   ]
  },
  {
   "cell_type": "code",
   "execution_count": 5,
   "metadata": {},
   "outputs": [
    {
     "data": {
      "text/plain": [
       "BertModel(\n",
       "  (embeddings): BertEmbeddings(\n",
       "    (word_embeddings): Embedding(30522, 256, padding_idx=0)\n",
       "    (position_embeddings): Embedding(512, 256)\n",
       "    (token_type_embeddings): Embedding(2, 256)\n",
       "    (LayerNorm): LayerNorm((256,), eps=1e-12, elementwise_affine=True)\n",
       "    (dropout): Dropout(p=0.1, inplace=False)\n",
       "  )\n",
       "  (encoder): BertEncoder(\n",
       "    (layer): ModuleList(\n",
       "      (0): BertLayer(\n",
       "        (attention): BertAttention(\n",
       "          (self): BertSelfAttention(\n",
       "            (query): Linear(in_features=256, out_features=256, bias=True)\n",
       "            (key): Linear(in_features=256, out_features=256, bias=True)\n",
       "            (value): Linear(in_features=256, out_features=256, bias=True)\n",
       "            (dropout): Dropout(p=0.1, inplace=False)\n",
       "          )\n",
       "          (output): BertSelfOutput(\n",
       "            (dense): Linear(in_features=256, out_features=256, bias=True)\n",
       "            (LayerNorm): LayerNorm((256,), eps=1e-12, elementwise_affine=True)\n",
       "            (dropout): Dropout(p=0.1, inplace=False)\n",
       "          )\n",
       "        )\n",
       "        (intermediate): BertIntermediate(\n",
       "          (dense): Linear(in_features=256, out_features=1024, bias=True)\n",
       "          (intermediate_act_fn): GELUActivation()\n",
       "        )\n",
       "        (output): BertOutput(\n",
       "          (dense): Linear(in_features=1024, out_features=256, bias=True)\n",
       "          (LayerNorm): LayerNorm((256,), eps=1e-12, elementwise_affine=True)\n",
       "          (dropout): Dropout(p=0.1, inplace=False)\n",
       "        )\n",
       "      )\n",
       "      (1): BertLayer(\n",
       "        (attention): BertAttention(\n",
       "          (self): BertSelfAttention(\n",
       "            (query): Linear(in_features=256, out_features=256, bias=True)\n",
       "            (key): Linear(in_features=256, out_features=256, bias=True)\n",
       "            (value): Linear(in_features=256, out_features=256, bias=True)\n",
       "            (dropout): Dropout(p=0.1, inplace=False)\n",
       "          )\n",
       "          (output): BertSelfOutput(\n",
       "            (dense): Linear(in_features=256, out_features=256, bias=True)\n",
       "            (LayerNorm): LayerNorm((256,), eps=1e-12, elementwise_affine=True)\n",
       "            (dropout): Dropout(p=0.1, inplace=False)\n",
       "          )\n",
       "        )\n",
       "        (intermediate): BertIntermediate(\n",
       "          (dense): Linear(in_features=256, out_features=1024, bias=True)\n",
       "          (intermediate_act_fn): GELUActivation()\n",
       "        )\n",
       "        (output): BertOutput(\n",
       "          (dense): Linear(in_features=1024, out_features=256, bias=True)\n",
       "          (LayerNorm): LayerNorm((256,), eps=1e-12, elementwise_affine=True)\n",
       "          (dropout): Dropout(p=0.1, inplace=False)\n",
       "        )\n",
       "      )\n",
       "      (2): BertLayer(\n",
       "        (attention): BertAttention(\n",
       "          (self): BertSelfAttention(\n",
       "            (query): Linear(in_features=256, out_features=256, bias=True)\n",
       "            (key): Linear(in_features=256, out_features=256, bias=True)\n",
       "            (value): Linear(in_features=256, out_features=256, bias=True)\n",
       "            (dropout): Dropout(p=0.1, inplace=False)\n",
       "          )\n",
       "          (output): BertSelfOutput(\n",
       "            (dense): Linear(in_features=256, out_features=256, bias=True)\n",
       "            (LayerNorm): LayerNorm((256,), eps=1e-12, elementwise_affine=True)\n",
       "            (dropout): Dropout(p=0.1, inplace=False)\n",
       "          )\n",
       "        )\n",
       "        (intermediate): BertIntermediate(\n",
       "          (dense): Linear(in_features=256, out_features=1024, bias=True)\n",
       "          (intermediate_act_fn): GELUActivation()\n",
       "        )\n",
       "        (output): BertOutput(\n",
       "          (dense): Linear(in_features=1024, out_features=256, bias=True)\n",
       "          (LayerNorm): LayerNorm((256,), eps=1e-12, elementwise_affine=True)\n",
       "          (dropout): Dropout(p=0.1, inplace=False)\n",
       "        )\n",
       "      )\n",
       "      (3): BertLayer(\n",
       "        (attention): BertAttention(\n",
       "          (self): BertSelfAttention(\n",
       "            (query): Linear(in_features=256, out_features=256, bias=True)\n",
       "            (key): Linear(in_features=256, out_features=256, bias=True)\n",
       "            (value): Linear(in_features=256, out_features=256, bias=True)\n",
       "            (dropout): Dropout(p=0.1, inplace=False)\n",
       "          )\n",
       "          (output): BertSelfOutput(\n",
       "            (dense): Linear(in_features=256, out_features=256, bias=True)\n",
       "            (LayerNorm): LayerNorm((256,), eps=1e-12, elementwise_affine=True)\n",
       "            (dropout): Dropout(p=0.1, inplace=False)\n",
       "          )\n",
       "        )\n",
       "        (intermediate): BertIntermediate(\n",
       "          (dense): Linear(in_features=256, out_features=1024, bias=True)\n",
       "          (intermediate_act_fn): GELUActivation()\n",
       "        )\n",
       "        (output): BertOutput(\n",
       "          (dense): Linear(in_features=1024, out_features=256, bias=True)\n",
       "          (LayerNorm): LayerNorm((256,), eps=1e-12, elementwise_affine=True)\n",
       "          (dropout): Dropout(p=0.1, inplace=False)\n",
       "        )\n",
       "      )\n",
       "    )\n",
       "  )\n",
       "  (pooler): BertPooler(\n",
       "    (dense): Linear(in_features=256, out_features=256, bias=True)\n",
       "    (activation): Tanh()\n",
       "  )\n",
       ")"
      ]
     },
     "execution_count": 5,
     "metadata": {},
     "output_type": "execute_result"
    }
   ],
   "source": [
    "bert"
   ]
  },
  {
   "cell_type": "code",
   "execution_count": 6,
   "metadata": {},
   "outputs": [
    {
     "data": {
      "text/plain": [
       "BertOutput(\n",
       "  (dense): Linear(in_features=1024, out_features=256, bias=True)\n",
       "  (LayerNorm): LayerNorm((256,), eps=1e-12, elementwise_affine=True)\n",
       "  (dropout): Dropout(p=0.1, inplace=False)\n",
       ")"
      ]
     },
     "execution_count": 6,
     "metadata": {},
     "output_type": "execute_result"
    }
   ],
   "source": [
    "bert.encoder.layer[3].output"
   ]
  },
  {
   "cell_type": "code",
   "execution_count": 7,
   "metadata": {},
   "outputs": [],
   "source": [
    "tokenizer = AutoTokenizer.from_pretrained(\"bert-base-uncased\")"
   ]
  },
  {
   "cell_type": "code",
   "execution_count": 8,
   "metadata": {},
   "outputs": [],
   "source": [
    "text = \"The deep red-black color reaches from core to rim. The fragrant nose centers around hot chocolate and candied cherries. Dry on the attack with adequate acidity, the wine shows moderate extraction and medium alcohol that lead to a short finish.\"\n",
    "inputs = tokenizer(text, return_tensors=\"pt\")"
   ]
  },
  {
   "cell_type": "code",
   "execution_count": 9,
   "metadata": {},
   "outputs": [
    {
     "data": {
      "text/plain": [
       "{'input_ids': tensor([[  101,  1996,  2784,  2417,  1011,  2304,  3609,  6561,  2013,  4563,\n",
       "          2000, 11418,  1012,  1996, 25312, 18980,  4451,  6401,  2105,  2980,\n",
       "          7967,  1998, 27467,  2098, 24188,  5134,  1012,  4318,  2006,  1996,\n",
       "          2886,  2007, 11706,  5648,  3012,  1010,  1996,  4511,  3065,  8777,\n",
       "         14676,  1998,  5396,  6544,  2008,  2599,  2000,  1037,  2460,  3926,\n",
       "          1012,   102]]), 'token_type_ids': tensor([[0, 0, 0, 0, 0, 0, 0, 0, 0, 0, 0, 0, 0, 0, 0, 0, 0, 0, 0, 0, 0, 0, 0, 0,\n",
       "         0, 0, 0, 0, 0, 0, 0, 0, 0, 0, 0, 0, 0, 0, 0, 0, 0, 0, 0, 0, 0, 0, 0, 0,\n",
       "         0, 0, 0, 0]]), 'attention_mask': tensor([[1, 1, 1, 1, 1, 1, 1, 1, 1, 1, 1, 1, 1, 1, 1, 1, 1, 1, 1, 1, 1, 1, 1, 1,\n",
       "         1, 1, 1, 1, 1, 1, 1, 1, 1, 1, 1, 1, 1, 1, 1, 1, 1, 1, 1, 1, 1, 1, 1, 1,\n",
       "         1, 1, 1, 1]])}"
      ]
     },
     "execution_count": 9,
     "metadata": {},
     "output_type": "execute_result"
    }
   ],
   "source": [
    "inputs"
   ]
  },
  {
   "cell_type": "code",
   "execution_count": 10,
   "metadata": {},
   "outputs": [
    {
     "data": {
      "text/plain": [
       "torch.Size([1, 52])"
      ]
     },
     "execution_count": 10,
     "metadata": {},
     "output_type": "execute_result"
    }
   ],
   "source": [
    "inputs[\"input_ids\"].shape"
   ]
  },
  {
   "cell_type": "code",
   "execution_count": 11,
   "metadata": {},
   "outputs": [],
   "source": [
    "def convert_id_to_vocab(tokenizer, input_ids):\n",
    "    vocab = tokenizer.get_vocab()\n",
    "    id_to_token = {v: k for k, v in vocab.items()}\n",
    "    tokens = []\n",
    "    for row in input_ids:\n",
    "        token = [id_to_token[int(i)] for i in row]\n",
    "        tokens += [token]\n",
    "    return tokens"
   ]
  },
  {
   "cell_type": "code",
   "execution_count": 12,
   "metadata": {},
   "outputs": [],
   "source": [
    "tokens = convert_id_to_vocab(tokenizer, inputs[\"input_ids\"])"
   ]
  },
  {
   "cell_type": "code",
   "execution_count": 13,
   "metadata": {},
   "outputs": [],
   "source": [
    "output = bert(**inputs)"
   ]
  },
  {
   "cell_type": "code",
   "execution_count": 14,
   "metadata": {},
   "outputs": [
    {
     "data": {
      "text/plain": [
       "BaseModelOutputWithPoolingAndCrossAttentions(last_hidden_state=tensor([[[-1.1698, -0.6812,  0.4613,  ...,  0.5151,  0.5006, -0.4524],\n",
       "         [-1.8724, -0.8934,  1.2267,  ..., -0.7405,  0.1288, -2.2521],\n",
       "         [ 0.0290, -0.3335,  0.5898,  ...,  1.1127,  0.1469, -0.9737],\n",
       "         ...,\n",
       "         [ 0.0621, -0.0561,  1.3614,  ...,  1.2573,  0.1305, -1.2296],\n",
       "         [-0.3848, -0.4755,  0.7629,  ...,  0.9349,  0.3439, -0.5901],\n",
       "         [-1.5469, -0.7537,  0.9267,  ..., -0.2165,  0.7236, -0.5530]]],\n",
       "       grad_fn=<NativeLayerNormBackward0>), pooler_output=tensor([[-0.9571, -0.8636,  1.0000,  0.9916,  0.9923, -0.4283,  0.9444,  0.1384,\n",
       "         -0.9982, -0.9887,  0.2863, -0.8664, -0.2668, -0.9997,  0.9876,  0.9876,\n",
       "         -0.3717, -0.4933,  1.0000,  0.9993,  1.0000, -0.9908, -0.9174, -0.9979,\n",
       "         -1.0000, -0.8681,  0.9989,  0.9967,  0.5909, -0.9992, -0.9999, -0.9990,\n",
       "          0.0474, -0.9353,  0.9958,  0.9988, -0.2013,  0.9997,  0.9948,  0.9409,\n",
       "         -0.9574,  0.5177,  0.9956, -0.9958,  0.9949, -0.4917,  0.8885,  1.0000,\n",
       "          0.8105,  0.9999, -0.1092,  0.9998, -0.9969, -0.1343,  0.9972, -0.9888,\n",
       "         -0.9983, -0.9229, -0.9988,  0.9766, -0.0140, -0.9347, -0.9998,  0.9984,\n",
       "         -0.6221, -0.9954, -0.7141, -0.9928, -0.7613, -0.8567, -0.9190, -0.6292,\n",
       "          0.9172, -0.9852, -0.9924,  0.9842, -1.0000, -0.9803, -0.8970, -0.6977,\n",
       "          0.0962,  0.9528, -0.2282, -0.9120, -0.9848, -0.8224, -0.7378,  0.5966,\n",
       "          0.8269,  1.0000, -0.9984, -0.9808,  0.9961,  0.9995,  0.7499,  0.9958,\n",
       "         -0.2324,  0.1545,  0.1577,  0.9709,  0.9965, -0.9993,  0.9968, -0.9948,\n",
       "          1.0000,  0.5897,  0.9385,  0.7588,  0.9725,  0.9618, -0.8864,  0.2782,\n",
       "         -0.9769,  0.9647, -0.9992,  0.9961,  0.8471, -0.9957,  0.9997, -0.8998,\n",
       "          0.9520,  0.4194, -0.2019,  0.5058, -0.8561, -0.9998, -0.6601,  0.9508,\n",
       "         -0.8506,  0.9996,  0.9829, -0.9974,  0.9775,  0.8021,  0.9414, -0.9999,\n",
       "         -0.9233,  0.9979,  0.9999,  0.9945,  0.9705,  1.0000,  0.9980, -0.6247,\n",
       "          0.9958, -0.7298, -0.9945, -0.9980, -0.9505,  0.9984, -0.7878, -0.8910,\n",
       "          0.4628,  0.9966, -0.8995, -0.9441, -0.9806,  0.9970, -0.1379, -0.9999,\n",
       "          0.9975, -1.0000, -1.0000,  0.8931, -0.8092, -0.9996,  0.8026,  0.5363,\n",
       "          0.9481, -0.1939, -0.8449, -0.9259, -0.9995,  0.9875,  0.9942,  0.9998,\n",
       "         -0.9999, -0.0224,  0.9997,  0.9960,  0.6701,  0.9028,  0.9928,  0.9856,\n",
       "         -0.8321,  0.9999, -0.9999,  0.9999,  0.9989, -0.9922, -0.1397,  0.8992,\n",
       "         -0.9996, -0.9902, -0.7397, -0.9997, -0.7636,  0.9756, -0.9888,  0.9992,\n",
       "         -0.9999, -0.7366, -0.5899, -0.8785, -0.9991,  0.9997, -0.9982, -0.9893,\n",
       "          0.9236,  0.9646,  0.4184,  0.9997,  1.0000,  0.9899, -0.9570, -0.9199,\n",
       "         -0.9284,  0.9968,  0.9124,  0.9907,  0.9966,  0.7133, -0.9998, -0.4416,\n",
       "         -0.9996,  0.9993, -0.8020, -0.8895,  0.9975, -0.9999, -0.9666, -1.0000,\n",
       "         -0.9612, -0.9825,  0.9810,  0.9834,  0.9475, -0.9945,  0.9356,  0.7983,\n",
       "          0.6835, -0.9887, -0.9327, -0.9765,  0.9966, -0.9999,  0.9988,  0.7247,\n",
       "          0.9998,  0.9997, -0.9785, -0.7911,  0.8039, -0.9836,  1.0000, -0.8378]],\n",
       "       grad_fn=<TanhBackward0>), hidden_states=None, past_key_values=None, attentions=None, cross_attentions=None)"
      ]
     },
     "execution_count": 14,
     "metadata": {},
     "output_type": "execute_result"
    }
   ],
   "source": [
    "output"
   ]
  },
  {
   "cell_type": "code",
   "execution_count": 15,
   "metadata": {},
   "outputs": [
    {
     "data": {
      "text/plain": [
       "torch.Size([1, 52, 256])"
      ]
     },
     "execution_count": 15,
     "metadata": {},
     "output_type": "execute_result"
    }
   ],
   "source": [
    "output.last_hidden_state.shape"
   ]
  },
  {
   "cell_type": "code",
   "execution_count": 16,
   "metadata": {},
   "outputs": [],
   "source": [
    "class LayerHook:\n",
    "    def __init__(self, model, target_layers):\n",
    "        self.model = model\n",
    "        self.backwards = []\n",
    "        self.forwards = []\n",
    "        self.hooks = []\n",
    "        for layer in target_layers:\n",
    "            self.hooks += [layer.register_forward_hook(self.save_forward)]\n",
    "            self.hooks += [layer.register_full_backward_hook(self.save_backward)]\n",
    "\n",
    "    def save_forward(self, module, input, output):\n",
    "        self.forwards += [output[0].cpu().detach()]\n",
    "\n",
    "    def save_backward(self, module, grad_input, grad_output):\n",
    "        self.backwards = [grad_output[0].cpu().detach()] + self.backwards\n",
    "\n",
    "    def __call__(self, **kwargs):\n",
    "        self.backwards = []\n",
    "        self.forwards = []\n",
    "        return self.model(**kwargs)\n",
    "\n",
    "    def release(self):\n",
    "        [hook.remove() for hook in self.hooks]"
   ]
  },
  {
   "cell_type": "code",
   "execution_count": 17,
   "metadata": {},
   "outputs": [],
   "source": [
    "layerhook = LayerHook(bert_classifier, [bert.encoder.layer[3]])"
   ]
  },
  {
   "cell_type": "code",
   "execution_count": 18,
   "metadata": {},
   "outputs": [
    {
     "data": {
      "text/plain": [
       "SequenceClassifierOutput(loss=None, logits=tensor([[-2.3193, -1.5638, -5.0269,  0.3760,  0.4918,  2.4069,  0.7228, -2.3692,\n",
       "          0.5980,  0.0384, -3.5180, -0.2821, -0.8943, -0.4765,  0.5265,  3.6653,\n",
       "          4.9975,  1.7904,  0.9448,  1.6260, -1.3697, -2.7034,  2.0426, -1.5378,\n",
       "         -4.4881,  2.3913,  4.5066, -0.4443,  1.6163, -0.3522, -2.0288, -3.0665,\n",
       "         -0.9385, -1.0246,  2.2376,  0.9653, -1.8527, -2.1235, -2.2957, -7.8667,\n",
       "         -0.0770, -1.7809, -1.5241,  0.0307, -3.6431,  0.2577,  1.0655, -3.1731,\n",
       "         -0.1267, -2.7269,  0.7741, -2.6058, -1.6487,  0.4509, -7.0819,  0.0209,\n",
       "          1.7495,  0.5095, -1.8496, -0.1983, -3.1522, -0.4317, -2.1152, -0.0202,\n",
       "         -0.4434,  0.7186,  5.1572, -1.0156, -1.6430,  2.0756,  0.1126, -1.3178,\n",
       "          2.9168, -1.1658, -1.5285, -0.5232, -1.7855,  1.9928, -0.1444,  2.1212,\n",
       "         -2.1124, -3.4163,  0.4809,  0.0475, -1.0373,  1.7571,  2.1534, -3.4781,\n",
       "          0.4077,  3.0889,  4.0471,  3.8213, -0.1193, -5.5892, -0.4638,  0.1985,\n",
       "          4.5521, -0.1187, -2.8498, -2.9607, -0.3506, -1.5664, -0.8297, -0.0622,\n",
       "          5.4021,  2.6733, -0.5170,  3.8957,  3.7968,  5.7293,  3.3046, -0.8212,\n",
       "          0.3408, -2.0951, -2.0427,  4.9811, -2.0630, -3.1493, -4.3958,  4.2627,\n",
       "         -3.2455, -0.3852,  1.3182, -0.4726,  0.3466,  1.8931,  1.1097, -1.1857,\n",
       "          1.1651,  0.2994,  0.6699,  2.8171, -1.2705,  1.7007,  1.4426, -1.7678,\n",
       "         -5.7243,  4.8812,  0.9140, -0.0185, -0.0438,  3.0473,  3.8520,  1.7335,\n",
       "         -4.5649, -4.5544, -3.1409, -5.5346,  2.6300,  0.1034, -1.4920,  2.4386,\n",
       "         -0.7389,  1.2554,  4.7880,  4.5399,  0.3014, -3.7898, -0.1137,  4.2940,\n",
       "          1.4047,  0.9636, -0.3461,  2.7731, -3.2363, -1.2853,  0.2979,  0.3809,\n",
       "          5.2713,  0.0150,  0.9276, -3.1467, -2.9384, -1.8806, -1.1500, -4.7098,\n",
       "         -1.6835,  2.5579,  0.8339, -1.2985,  1.7853, -2.5208,  2.1363,  1.6462,\n",
       "         -2.4401, -2.2096, -0.6833,  0.5189, -2.4648,  6.9884,  2.2789, -0.0261,\n",
       "         -6.8425, -1.9692,  0.7497,  0.2925,  5.1156, -1.0778,  0.5772,  0.8469,\n",
       "         -6.1274, -2.0483, -3.2575, -1.5505, -2.7252, -1.2273,  0.2292,  0.4881,\n",
       "         -4.2654,  3.1591,  0.0183,  0.2592,  4.5719,  4.1041, -1.3394,  0.9201,\n",
       "          0.5971, -1.2519, -1.5420, -0.6188, -1.0090, -0.5313, -2.7486, -2.4373,\n",
       "         -1.4006, -1.3566,  1.8799,  1.0093,  2.1246, -6.3578, -0.9343, -1.0679,\n",
       "          0.9147,  3.8934, -1.8823,  1.5920, -0.7934,  7.0300, -6.2404,  4.3534,\n",
       "          0.0098, -1.5455, -0.1396, -0.6939, -1.5761, -4.7207,  1.7355,  1.3826,\n",
       "          1.4986, -1.8726, -0.6823,  4.2764,  2.3720, -2.3118, -0.5478,  0.4624,\n",
       "         -0.3655,  2.7660,  2.3349, -1.8916,  0.1697, -1.6895, -2.1229,  1.6832,\n",
       "          1.6066,  5.7527, -0.5517, -0.9610, -2.1346,  0.6316,  1.6340,  1.4551,\n",
       "          2.0716,  0.7348,  3.2802, -1.9704, -0.0598, -5.4322,  2.2506,  0.8865,\n",
       "         -1.6671,  4.7639,  1.9787,  0.4895, -0.5724,  0.6005,  0.5046, -0.9566,\n",
       "          5.9385, -3.0567,  3.1096,  1.0132,  4.0851,  2.5648,  0.1687,  0.2980,\n",
       "          0.0589,  0.0861,  0.7008, -2.6566,  0.3173,  1.7130, -3.0744,  2.6073,\n",
       "          1.0733,  1.1688, -1.7158,  2.6574,  0.8919, -0.2432,  2.3721,  1.1267,\n",
       "          3.8660,  0.1948, -2.3484, -0.5348,  0.8883,  1.1618,  0.1468, -0.3670,\n",
       "          0.2703,  0.8208, -0.2435,  1.1179, -0.4110, -0.7014,  1.4277, -0.9862,\n",
       "         -0.6169,  1.3659,  4.9144, -1.3196,  0.2244, -3.2116, -2.7520,  2.1190,\n",
       "          0.7373, -3.8134,  2.1587, -1.0304, -2.0971,  5.5013, -1.2984, -1.6594,\n",
       "          1.1565,  0.4566,  1.1648, -0.3799,  0.6903,  2.3093, -0.0679, -2.7704,\n",
       "          0.8302,  1.4759,  2.9466,  3.0929,  1.1212, -0.8466,  6.6375, -0.7271,\n",
       "         -3.0066,  0.3373, -3.4317, -1.0654, -0.9190, -0.7776, -1.0245, -1.7372,\n",
       "          1.9929,  1.3844,  6.9926, -1.9737,  5.0185,  1.0686,  1.9570, -0.1311,\n",
       "          1.0612,  1.4518, -1.5555,  6.5833, -1.3049, -2.8682, -3.1652,  2.7134,\n",
       "          3.5993, -5.5629,  3.4405,  3.2865,  0.9096,  0.0424, -0.2899,  0.8157,\n",
       "          1.1016, -1.0606, -3.8433, -4.5324,  1.5164,  1.6065,  2.1491,  6.6606,\n",
       "          0.7696, -0.1899,  0.6510,  0.5701,  2.0309, -0.1861, -4.8858, -4.7433,\n",
       "         -3.0152, -4.3050,  1.3922,  1.4780, -2.2140,  3.9752,  0.8363,  2.8063,\n",
       "          0.8893, -1.2296, -3.3412, -0.9483, -1.0054,  0.2318,  1.7409, -2.2418,\n",
       "         -0.9614,  2.6077, -0.1892,  1.0905, -1.0590,  4.8423,  0.6859, -3.6692,\n",
       "         -0.5624,  1.6553, -0.3826, -1.4747,  1.4492,  0.9705,  0.1606,  1.2113,\n",
       "          1.5911,  7.0793,  3.5816,  1.1690,  0.7086, -0.6190,  0.1081,  1.0132,\n",
       "          0.5526, -3.1032,  0.3882,  3.4733,  0.2958,  5.8446,  1.4563,  5.6062,\n",
       "          0.4684, -0.6413, -0.5165, -0.3415,  1.5665, -2.4586, -1.4639,  1.1292,\n",
       "         -0.1699,  4.4322,  2.4281,  2.5045,  0.9109,  1.0696, -0.5184, -4.6151,\n",
       "          2.7635,  2.7179, -4.3910,  0.6968, -0.7882, -1.2499,  0.3001,  3.0404,\n",
       "          2.0280, -0.2926,  6.1136, -0.5621, -1.4286,  0.5616, -1.8597, -1.1771,\n",
       "          2.6232,  1.0945,  0.7446, -1.3043,  2.4307,  3.5532,  3.0593,  6.0371,\n",
       "         -1.5027, -2.1823, -2.2388,  0.3737, -0.3390,  4.0696,  3.2280, -0.0187,\n",
       "          0.3628,  1.5302,  0.4952,  2.0210,  0.1923, -1.3648, -0.0977, -0.1118,\n",
       "          5.9601,  2.7601,  5.4620, -0.8337, -0.0159,  2.8291,  0.3032,  2.2557,\n",
       "          6.6149,  5.5755, -0.0587,  1.7087,  0.8868,  0.7106, -2.2928, -3.9943,\n",
       "         -0.7033,  2.0558, -1.5386, -1.9712,  3.5091,  5.8894,  4.1881,  0.3332,\n",
       "         -0.5734,  0.5571, -0.8491,  2.5749,  0.4110, -0.2196,  4.4932, -1.3646,\n",
       "          1.8877,  4.3097, -0.9707, -0.6186,  1.9796,  1.9999, -2.0136,  4.5031,\n",
       "          3.5063,  6.3809,  1.9925, -0.9199, -4.3374,  0.7164,  5.1320, -2.0065,\n",
       "          5.0083, -0.2868, -0.7235,  1.8879,  0.6860,  2.1075,  0.3459,  2.1930,\n",
       "          4.3983, -2.5094,  5.2631, -3.3600,  3.1330,  0.7724,  0.4873, -0.8861,\n",
       "         -0.8214,  0.7175,  0.3684, -1.4535,  4.6295,  1.2231,  0.6905, -1.6159]],\n",
       "       grad_fn=<AddmmBackward0>), hidden_states=None, attentions=None)"
      ]
     },
     "execution_count": 18,
     "metadata": {},
     "output_type": "execute_result"
    }
   ],
   "source": [
    "output = layerhook(**inputs)\n",
    "output"
   ]
  },
  {
   "cell_type": "code",
   "execution_count": 19,
   "metadata": {},
   "outputs": [
    {
     "data": {
      "text/plain": [
       "torch.Size([1, 52, 256])"
      ]
     },
     "execution_count": 19,
     "metadata": {},
     "output_type": "execute_result"
    }
   ],
   "source": [
    "layerhook.forwards[0].shape"
   ]
  },
  {
   "cell_type": "code",
   "execution_count": 20,
   "metadata": {},
   "outputs": [],
   "source": [
    "class GradCAMForBert:\n",
    "    def __init__(self, model, targer_layers):\n",
    "        self.model = model\n",
    "        self.model.eval()\n",
    "        self.target_layers = targer_layers\n",
    "        self.layer_hook = LayerHook(model, targer_layers)\n",
    "\n",
    "    def __call__(self, inputs, target_category=None):\n",
    "        # Forward\n",
    "        input_tensor = inputs[\"input_ids\"]\n",
    "\n",
    "        output = self.layer_hook(**inputs)\n",
    "        logits = output.logits\n",
    "\n",
    "        if isinstance(target_category, int):\n",
    "            target_category = [target_category] * input_tensor.size(0)\n",
    "\n",
    "        if target_category is None:\n",
    "            target_category = np.argmax(logits.cpu().detach().numpy(), axis=-1)\n",
    "            print(\n",
    "                f\"target_category not provided, use top 1 predictions: {target_category}\"\n",
    "            )\n",
    "\n",
    "        # Backward\n",
    "        self.model.zero_grad()\n",
    "        loss = 0\n",
    "        for i, c in enumerate(target_category):\n",
    "            loss = loss + logits[i, c]\n",
    "        loss.backward(retain_graph=True)\n",
    "\n",
    "        # Calculate GradCAM\n",
    "        cams = []\n",
    "\n",
    "        forwards, backwards = self.layer_hook.forwards, self.layer_hook.backwards\n",
    "        for f, b in zip(forwards, backwards):\n",
    "            weight = np.mean(b.numpy(), axis=2, keepdims=True)  # b is grad\n",
    "            weight_f = weight * f.numpy()\n",
    "            cam = weight_f.sum(axis=2)\n",
    "            cam[cam < 0] = 0  # ReLU\n",
    "            cams += [cam, cam]\n",
    "        cams = np.stack(cams, axis=0)\n",
    "        cams = cams.mean(axis=0)\n",
    "\n",
    "        return cams"
   ]
  },
  {
   "cell_type": "code",
   "execution_count": 21,
   "metadata": {},
   "outputs": [],
   "source": [
    "gradcam = GradCAMForBert(bert_classifier, [bert.encoder.layer[2]])"
   ]
  },
  {
   "cell_type": "code",
   "execution_count": 22,
   "metadata": {},
   "outputs": [],
   "source": [
    "def aggregate_wordpiece(token, cam, remove_cls_sep=True):\n",
    "    agg = []\n",
    "    cur_tc = None\n",
    "    for t, c in zip(token, cam):\n",
    "        if t.startswith(\"##\"):\n",
    "            cur_tc[0] += t[2:]\n",
    "            cur_tc[1] + c\n",
    "        else:\n",
    "            if cur_tc is not None:\n",
    "                agg += [tuple(cur_tc)]\n",
    "            cur_tc = [t, c]\n",
    "    agg += [tuple(cur_tc)]\n",
    "    if remove_cls_sep:\n",
    "        agg = agg[1:-2]\n",
    "    return agg"
   ]
  },
  {
   "cell_type": "code",
   "execution_count": 23,
   "metadata": {},
   "outputs": [],
   "source": [
    "def plot_cam(token, cam, agg_wordpiece=True, remove_cls_sep=True):\n",
    "    plt.figure(figsize=(15, 10))\n",
    "    if agg_wordpiece:\n",
    "        agg = aggregate_wordpiece(token, cam, remove_cls_sep)\n",
    "        token, cam = list(zip(*agg))\n",
    "    pos = range(len(cam))\n",
    "    plt.bar(pos, cam)\n",
    "    plt.xticks(pos, token, rotation=90)"
   ]
  },
  {
   "cell_type": "code",
   "execution_count": 24,
   "metadata": {},
   "outputs": [
    {
     "data": {
      "image/png": "[encoded data removed]",
      "text/plain": [
       "<Figure size 1500x1000 with 1 Axes>"
      ]
     },
     "metadata": {},
     "output_type": "display_data"
    }
   ],
   "source": [
    "cams_true_label = gradcam(inputs, target_category=265)\n",
    "plot_cam(tokens[0], cams_true_label[0])"
   ]
  },
  {
   "cell_type": "code",
   "execution_count": 25,
   "metadata": {},
   "outputs": [
    {
     "name": "stdout",
     "output_type": "stream",
     "text": [
      "target_category not provided, use top 1 predictions: [441]\n"
     ]
    },
    {
     "data": {
      "image/png": "[encoded data removed]",
      "text/plain": [
       "<Figure size 1500x1000 with 1 Axes>"
      ]
     },
     "metadata": {},
     "output_type": "display_data"
    }
   ],
   "source": [
    "cams_top1 = gradcam(inputs, target_category=None)\n",
    "plot_cam(tokens[0], cams_top1[0])"
   ]
  },
  {
   "cell_type": "code",
   "execution_count": null,
   "metadata": {},
   "outputs": [],
   "source": []
  }
 ],
 "metadata": {
  "kernelspec": {
   "display_name": "Python 3 (ipykernel)",
   "language": "python",
   "name": "python3"
  },
  "language_info": {
   "codemirror_mode": {
    "name": "ipython",
    "version": 3
   },
   "file_extension": ".py",
   "mimetype": "text/x-python",
   "name": "python",
   "nbconvert_exporter": "python",
   "pygments_lexer": "ipython3",
   "version": "3.9.12"
  },
  "vscode": {
   "interpreter": {
    "hash": "369f2c481f4da34e4445cda3fffd2e751bd1c4d706f27375911949ba6bb62e1c"
   }
  }
 },
 "nbformat": 4,
 "nbformat_minor": 2
}
