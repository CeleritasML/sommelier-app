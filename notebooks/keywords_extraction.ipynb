{
 "cells": [
  {
   "cell_type": "code",
   "execution_count": 1,
   "metadata": {},
   "outputs": [],
   "source": [
    "import pandas as pd\n",
    "from pandarallel import pandarallel\n",
    "\n",
    "data = {\n",
    "    \"train\": pd.read_csv(\"../data/wine_cleaned_train.csv\"),\n",
    "    \"test\": pd.read_csv(\"../data/wine_cleaned_test.csv\"),\n",
    "    \"val\": pd.read_csv(\"../data/wine_cleaned_val.csv\"),\n",
    "}"
   ]
  },
  {
   "cell_type": "code",
   "execution_count": 2,
   "metadata": {},
   "outputs": [],
   "source": [
    "df = data[\"train\"]\n",
    "support = df[\"region_variety\"].value_counts().to_dict()"
   ]
  },
  {
   "cell_type": "code",
   "execution_count": 3,
   "metadata": {},
   "outputs": [],
   "source": [
    "import spacy\n",
    "\n",
    "nlp = spacy.load(\"en_core_web_sm\")"
   ]
  },
  {
   "cell_type": "code",
   "execution_count": 4,
   "metadata": {},
   "outputs": [],
   "source": [
    "# use a list of stopwords for getting descriptors\n",
    "stopwords = nlp.Defaults.stop_words\n",
    "\n",
    "# add more stopwords that I found through examples\n",
    "stopwords |= {\n",
    "    \"aroma\",\n",
    "    \"aromas\",\n",
    "    \"flavor\",\n",
    "    \"flavors\",\n",
    "    \"note\",\n",
    "    \"notes\",\n",
    "    \"food\",\n",
    "    \"touch\",\n",
    "    \"wine\",\n",
    "    \"it's\",\n",
    "}\n",
    "\n",
    "\n",
    "def get_descriptors(string):\n",
    "    \"\"\"\n",
    "    This function uses tools provided by spaCy to grab all adjectives and noun chunks in the string that describes a wine.\n",
    "    Returns all descriptors as a list.\n",
    "    \"\"\"\n",
    "\n",
    "    string = string.lower()  # make all descriptors lower-case\n",
    "    spacy_tokens = nlp(\n",
    "        string\n",
    "    )  # use spaCy to tokenize the string, comes with `token.{pos_, lemma_}` that I will use\n",
    "    noun_chunks = spacy_tokens.noun_chunks  # get all noun chunks in the string\n",
    "\n",
    "    toReturn = []  # initialize list of descriptors to return\n",
    "    for chunk in noun_chunks:\n",
    "        if (\n",
    "            all(\n",
    "                (str(token) not in stopwords)\n",
    "                and token.is_punct  # no token in the noun chunk can be a stopword\n",
    "                != True\n",
    "                and \"-PRON-\"  # no token in the noun chunk can be punctuation\n",
    "                not in token.lemma_  # no token in the noun chunk can be a pronoun\n",
    "                for token in chunk  # conditions above must hold for each token in the noun chunk\n",
    "            )\n",
    "            == True\n",
    "        ):\n",
    "            toReturn.append(str(chunk))  # then this noun chunk can be returned\n",
    "\n",
    "    # there are still stand-alone adjectives which weren't used to describe any nouns but not returned, I want them too\n",
    "    # below is the solution\n",
    "\n",
    "    already_in_noun_chunks = [\n",
    "        word for token in toReturn for word in str(token).split()\n",
    "    ]  # get all words that the noun chunks already contain into a list\n",
    "    for token in spacy_tokens:\n",
    "        if (token.pos_ == \"ADJ\") & (\n",
    "            str(token) not in already_in_noun_chunks\n",
    "        ):  # if a token in the string is an adjective and not already in the list to be returned\n",
    "            toReturn.append(str(token))\n",
    "\n",
    "    return list(toReturn)"
   ]
  },
  {
   "cell_type": "code",
   "execution_count": 5,
   "metadata": {},
   "outputs": [
    {
     "name": "stdout",
     "output_type": "stream",
     "text": [
      "INFO: Pandarallel will run on 8 workers.\n",
      "INFO: Pandarallel will use Memory file system to transfer data between the main process and workers.\n"
     ]
    },
    {
     "data": {
      "application/vnd.jupyter.widget-view+json": {
       "model_id": "02a73758cd424ada9107924a8bb04dc8",
       "version_major": 2,
       "version_minor": 0
      },
      "text/plain": [
       "VBox(children=(HBox(children=(IntProgress(value=0, description='0.00%', max=13195), Label(value='0 / 13195')))…"
      ]
     },
     "metadata": {},
     "output_type": "display_data"
    },
    {
     "data": {
      "application/vnd.jupyter.widget-view+json": {
       "model_id": "d89567afb48a4a2e8d6175a480cedbe1",
       "version_major": 2,
       "version_minor": 0
      },
      "text/plain": [
       "VBox(children=(HBox(children=(IntProgress(value=0, description='0.00%', max=734), Label(value='0 / 734'))), HB…"
      ]
     },
     "metadata": {},
     "output_type": "display_data"
    },
    {
     "data": {
      "application/vnd.jupyter.widget-view+json": {
       "model_id": "729e39e1c9524130bc26dfa1fa896813",
       "version_major": 2,
       "version_minor": 0
      },
      "text/plain": [
       "VBox(children=(HBox(children=(IntProgress(value=0, description='0.00%', max=733), Label(value='0 / 733'))), HB…"
      ]
     },
     "metadata": {},
     "output_type": "display_data"
    }
   ],
   "source": [
    "pandarallel.initialize(progress_bar=True)\n",
    "for split in data:\n",
    "    df = data[split]\n",
    "    df[\"keywords\"] = df[\"description\"].parallel_apply(get_descriptors)"
   ]
  },
  {
   "cell_type": "code",
   "execution_count": 6,
   "metadata": {},
   "outputs": [],
   "source": [
    "for split in data:\n",
    "    df = data[split].copy(deep=True)\n",
    "    df[\"keywords\"] = df[\"keywords\"].map(lambda x: \" \".join(x))\n",
    "    df = df[[\"keywords\", \"region_variety\"]]\n",
    "    df.to_csv(f\"../data/wine_keywords_{split}.csv\", index=False)"
   ]
  },
  {
   "cell_type": "code",
   "execution_count": 7,
   "metadata": {},
   "outputs": [],
   "source": [
    "df = data[\"train\"]\n",
    "df = df[[\"keywords\", \"region_variety\"]]"
   ]
  },
  {
   "cell_type": "code",
   "execution_count": 8,
   "metadata": {},
   "outputs": [],
   "source": [
    "df = df.groupby(\"region_variety\").agg(sum)"
   ]
  },
  {
   "cell_type": "code",
   "execution_count": 9,
   "metadata": {},
   "outputs": [],
   "source": [
    "df = df.reset_index()"
   ]
  },
  {
   "cell_type": "code",
   "execution_count": 10,
   "metadata": {},
   "outputs": [
    {
     "data": {
      "text/html": [
       "<div>\n",
       "<style scoped>\n",
       "    .dataframe tbody tr th:only-of-type {\n",
       "        vertical-align: middle;\n",
       "    }\n",
       "\n",
       "    .dataframe tbody tr th {\n",
       "        vertical-align: top;\n",
       "    }\n",
       "\n",
       "    .dataframe thead th {\n",
       "        text-align: right;\n",
       "    }\n",
       "</style>\n",
       "<table border=\"1\" class=\"dataframe\">\n",
       "  <thead>\n",
       "    <tr style=\"text-align: right;\">\n",
       "      <th></th>\n",
       "      <th>region_variety</th>\n",
       "      <th>keywords</th>\n",
       "    </tr>\n",
       "  </thead>\n",
       "  <tbody>\n",
       "    <tr>\n",
       "      <th>0</th>\n",
       "      <td>Argentina-Mendoza Province:Bonarda</td>\n",
       "      <td>[bonarda, likable plum, expectations, argentin...</td>\n",
       "    </tr>\n",
       "    <tr>\n",
       "      <th>1</th>\n",
       "      <td>Argentina-Mendoza Province:Bordeaux-style Red ...</td>\n",
       "      <td>[revancha, wines, esteemed winemaker roberto d...</td>\n",
       "    </tr>\n",
       "    <tr>\n",
       "      <th>2</th>\n",
       "      <td>Argentina-Mendoza Province:Cabernet Franc</td>\n",
       "      <td>[cab franc, cassis, wild berries, pastry, vani...</td>\n",
       "    </tr>\n",
       "    <tr>\n",
       "      <th>3</th>\n",
       "      <td>Argentina-Mendoza Province:Cabernet Sauvignon</td>\n",
       "      <td>[clove, broad shoulders, firm tannins, campfir...</td>\n",
       "    </tr>\n",
       "    <tr>\n",
       "      <th>4</th>\n",
       "      <td>Argentina-Mendoza Province:Chardonnay</td>\n",
       "      <td>[terms, woody chardonnay, vanilla, oak, basic,...</td>\n",
       "    </tr>\n",
       "  </tbody>\n",
       "</table>\n",
       "</div>"
      ],
      "text/plain": [
       "                                      region_variety  \\\n",
       "0                 Argentina-Mendoza Province:Bonarda   \n",
       "1  Argentina-Mendoza Province:Bordeaux-style Red ...   \n",
       "2          Argentina-Mendoza Province:Cabernet Franc   \n",
       "3      Argentina-Mendoza Province:Cabernet Sauvignon   \n",
       "4              Argentina-Mendoza Province:Chardonnay   \n",
       "\n",
       "                                            keywords  \n",
       "0  [bonarda, likable plum, expectations, argentin...  \n",
       "1  [revancha, wines, esteemed winemaker roberto d...  \n",
       "2  [cab franc, cassis, wild berries, pastry, vani...  \n",
       "3  [clove, broad shoulders, firm tannins, campfir...  \n",
       "4  [terms, woody chardonnay, vanilla, oak, basic,...  "
      ]
     },
     "execution_count": 10,
     "metadata": {},
     "output_type": "execute_result"
    }
   ],
   "source": [
    "df.head()"
   ]
  },
  {
   "cell_type": "code",
   "execution_count": 11,
   "metadata": {},
   "outputs": [],
   "source": [
    "from collections import Counter\n",
    "import numpy as np\n",
    "\n",
    "## Calculating TF(t,d) = log(1 + count(t | d))\n",
    "df[\"tf\"] = df[\"keywords\"].map(Counter)\n",
    "for counter_object in df.tf:\n",
    "    for word in counter_object:\n",
    "        counter_object[word] = np.log(counter_object[word] + 1)"
   ]
  },
  {
   "cell_type": "code",
   "execution_count": 12,
   "metadata": {},
   "outputs": [],
   "source": [
    "all_words = {}\n",
    "for counter_object in df.tf:\n",
    "    for word in counter_object:\n",
    "        all_words[word] = 1\n",
    "\n",
    "idf = {}\n",
    "## Calculating IDF(d, t) = log(N/|{d in D: t in d}|)\n",
    "for word in all_words:\n",
    "    denominator = 0\n",
    "    for counter in df.tf:\n",
    "        if word in counter:\n",
    "            denominator += 1\n",
    "    idf[word] = np.log(584 / denominator)"
   ]
  },
  {
   "cell_type": "code",
   "execution_count": 13,
   "metadata": {},
   "outputs": [
    {
     "data": {
      "text/html": [
       "<div>\n",
       "<style scoped>\n",
       "    .dataframe tbody tr th:only-of-type {\n",
       "        vertical-align: middle;\n",
       "    }\n",
       "\n",
       "    .dataframe tbody tr th {\n",
       "        vertical-align: top;\n",
       "    }\n",
       "\n",
       "    .dataframe thead th {\n",
       "        text-align: right;\n",
       "    }\n",
       "</style>\n",
       "<table border=\"1\" class=\"dataframe\">\n",
       "  <thead>\n",
       "    <tr style=\"text-align: right;\">\n",
       "      <th></th>\n",
       "      <th>region_variety</th>\n",
       "      <th>keywords</th>\n",
       "      <th>tf</th>\n",
       "    </tr>\n",
       "  </thead>\n",
       "  <tbody>\n",
       "    <tr>\n",
       "      <th>0</th>\n",
       "      <td>Argentina-Mendoza Province:Bonarda</td>\n",
       "      <td>[bonarda, likable plum, expectations, argentin...</td>\n",
       "      <td>{'bonarda': 1.9459101490553132, 'likable plum'...</td>\n",
       "    </tr>\n",
       "    <tr>\n",
       "      <th>1</th>\n",
       "      <td>Argentina-Mendoza Province:Bordeaux-style Red ...</td>\n",
       "      <td>[revancha, wines, esteemed winemaker roberto d...</td>\n",
       "      <td>{'revancha': 1.0986122886681098, 'wines': 1.09...</td>\n",
       "    </tr>\n",
       "    <tr>\n",
       "      <th>2</th>\n",
       "      <td>Argentina-Mendoza Province:Cabernet Franc</td>\n",
       "      <td>[cab franc, cassis, wild berries, pastry, vani...</td>\n",
       "      <td>{'cab franc': 1.791759469228055, 'cassis': 2.0...</td>\n",
       "    </tr>\n",
       "    <tr>\n",
       "      <th>3</th>\n",
       "      <td>Argentina-Mendoza Province:Cabernet Sauvignon</td>\n",
       "      <td>[clove, broad shoulders, firm tannins, campfir...</td>\n",
       "      <td>{'clove': 2.1972245773362196, 'broad shoulders...</td>\n",
       "    </tr>\n",
       "    <tr>\n",
       "      <th>4</th>\n",
       "      <td>Argentina-Mendoza Province:Chardonnay</td>\n",
       "      <td>[terms, woody chardonnay, vanilla, oak, basic,...</td>\n",
       "      <td>{'terms': 1.3862943611198906, 'woody chardonna...</td>\n",
       "    </tr>\n",
       "  </tbody>\n",
       "</table>\n",
       "</div>"
      ],
      "text/plain": [
       "                                      region_variety  \\\n",
       "0                 Argentina-Mendoza Province:Bonarda   \n",
       "1  Argentina-Mendoza Province:Bordeaux-style Red ...   \n",
       "2          Argentina-Mendoza Province:Cabernet Franc   \n",
       "3      Argentina-Mendoza Province:Cabernet Sauvignon   \n",
       "4              Argentina-Mendoza Province:Chardonnay   \n",
       "\n",
       "                                            keywords  \\\n",
       "0  [bonarda, likable plum, expectations, argentin...   \n",
       "1  [revancha, wines, esteemed winemaker roberto d...   \n",
       "2  [cab franc, cassis, wild berries, pastry, vani...   \n",
       "3  [clove, broad shoulders, firm tannins, campfir...   \n",
       "4  [terms, woody chardonnay, vanilla, oak, basic,...   \n",
       "\n",
       "                                                  tf  \n",
       "0  {'bonarda': 1.9459101490553132, 'likable plum'...  \n",
       "1  {'revancha': 1.0986122886681098, 'wines': 1.09...  \n",
       "2  {'cab franc': 1.791759469228055, 'cassis': 2.0...  \n",
       "3  {'clove': 2.1972245773362196, 'broad shoulders...  \n",
       "4  {'terms': 1.3862943611198906, 'woody chardonna...  "
      ]
     },
     "execution_count": 13,
     "metadata": {},
     "output_type": "execute_result"
    }
   ],
   "source": [
    "df.head()"
   ]
  },
  {
   "cell_type": "code",
   "execution_count": 14,
   "metadata": {},
   "outputs": [
    {
     "name": "stderr",
     "output_type": "stream",
     "text": [
      "584it [00:00, 712.34it/s]\n"
     ]
    }
   ],
   "source": [
    "# Calculating TF-IDF and find top 10 keywords for each region_variety\n",
    "from tqdm import tqdm\n",
    "\n",
    "\n",
    "keywords = {}\n",
    "for _, row in tqdm(df.iterrows()):\n",
    "    tfidf = {k: row[\"tf\"][k] * idf[k] for k in row[\"tf\"]}\n",
    "    counter = Counter(tfidf)\n",
    "    top10 = counter.most_common(10)\n",
    "    keywords[row[\"region_variety\"]] = {\n",
    "        \"keywords\": [word for word, _ in top10],\n",
    "        \"tfidf\": [count for _, count in top10],\n",
    "    }"
   ]
  },
  {
   "cell_type": "code",
   "execution_count": 15,
   "metadata": {},
   "outputs": [],
   "source": [
    "import json\n",
    "\n",
    "with open(\"../models/idx_to_label.json\", \"r\") as f:\n",
    "    idx_to_label = json.load(f)\n",
    "\n",
    "idx_to_keywords = [\n",
    "    {\n",
    "        \"label\": label,\n",
    "        \"keywords\": keywords[label][\"keywords\"],\n",
    "        \"tfidf\": keywords[label][\"tfidf\"],\n",
    "        \"support\": support[label],\n",
    "    }\n",
    "    for label in idx_to_label\n",
    "]\n",
    "\n",
    "with open(\"../models/idx_to_keywords.json\", \"w\") as f:\n",
    "    json.dump(idx_to_keywords, f)\n",
    "    f.write(\"\\n\")"
   ]
  },
  {
   "cell_type": "code",
   "execution_count": null,
   "metadata": {},
   "outputs": [],
   "source": []
  }
 ],
 "metadata": {
  "kernelspec": {
   "display_name": "Python 3 (ipykernel)",
   "language": "python",
   "name": "python3"
  },
  "language_info": {
   "codemirror_mode": {
    "name": "ipython",
    "version": 3
   },
   "file_extension": ".py",
   "mimetype": "text/x-python",
   "name": "python",
   "nbconvert_exporter": "python",
   "pygments_lexer": "ipython3",
   "version": "3.9.12"
  },
  "vscode": {
   "interpreter": {
    "hash": "b09ec625f77bf4fd762565a912b97636504ad6ec901eb2d0f4cf5a7de23e1ee5"
   }
  }
 },
 "nbformat": 4,
 "nbformat_minor": 2
}
