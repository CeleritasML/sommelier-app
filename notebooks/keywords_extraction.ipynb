{
 "cells": [
  {
   "cell_type": "code",
   "execution_count": 1,
   "metadata": {},
   "outputs": [],
   "source": [
    "import pandas as pd\n",
    "from pandarallel import pandarallel\n",
    "\n",
    "data = {\n",
    "    \"train\": pd.read_csv(\"../data/wine_cleaned_train.csv\"),\n",
    "    \"test\": pd.read_csv(\"../data/wine_cleaned_test.csv\"),\n",
    "    \"val\": pd.read_csv(\"../data/wine_cleaned_val.csv\"),\n",
    "}"
   ]
  },
  {
   "cell_type": "code",
   "execution_count": 2,
   "metadata": {},
   "outputs": [],
   "source": [
    "df = data[\"train\"]\n",
    "support = df[\"region_variety\"].value_counts().to_dict()"
   ]
  },
  {
   "cell_type": "code",
   "execution_count": 3,
   "metadata": {},
   "outputs": [],
   "source": [
    "import spacy\n",
    "\n",
    "nlp = spacy.load(\"en_core_web_sm\")"
   ]
  },
  {
   "cell_type": "code",
   "execution_count": 4,
   "metadata": {},
   "outputs": [],
   "source": [
    "# use a list of stopwords for getting descriptors\n",
    "stopwords = nlp.Defaults.stop_words\n",
    "\n",
    "# add more stopwords that I found through examples\n",
    "stopwords |= {\n",
    "    \"aroma\",\n",
    "    \"aromas\",\n",
    "    \"flavor\",\n",
    "    \"flavors\",\n",
    "    \"note\",\n",
    "    \"notes\",\n",
    "    \"food\",\n",
    "    \"touch\",\n",
    "    \"wine\",\n",
    "    \"it's\",\n",
    "}\n",
    "\n",
    "\n",
    "def get_descriptors(string):\n",
    "    \"\"\"\n",
    "    This function uses tools provided by spaCy to grab all adjectives and noun chunks in the string that describes a wine.\n",
    "    Returns all descriptors as a list.\n",
    "    \"\"\"\n",
    "\n",
    "    string = string.lower()  # make all descriptors lower-case\n",
    "    spacy_tokens = nlp(\n",
    "        string\n",
    "    )  # use spaCy to tokenize the string, comes with `token.{pos_, lemma_}` that I will use\n",
    "    noun_chunks = spacy_tokens.noun_chunks  # get all noun chunks in the string\n",
    "\n",
    "    toReturn = []  # initialize list of descriptors to return\n",
    "    for chunk in noun_chunks:\n",
    "        if (\n",
    "            all(\n",
    "                (str(token) not in stopwords)\n",
    "                and token.is_punct  # no token in the noun chunk can be a stopword\n",
    "                != True\n",
    "                and \"-PRON-\"  # no token in the noun chunk can be punctuation\n",
    "                not in token.lemma_  # no token in the noun chunk can be a pronoun\n",
    "                for token in chunk  # conditions above must hold for each token in the noun chunk\n",
    "            )\n",
    "            == True\n",
    "        ):\n",
    "            toReturn.append(str(chunk))  # then this noun chunk can be returned\n",
    "\n",
    "    # there are still stand-alone adjectives which weren't used to describe any nouns but not returned, I want them too\n",
    "    # below is the solution\n",
    "\n",
    "    already_in_noun_chunks = [\n",
    "        word for token in toReturn for word in str(token).split()\n",
    "    ]  # get all words that the noun chunks already contain into a list\n",
    "    for token in spacy_tokens:\n",
    "        if (token.pos_ == \"ADJ\") & (\n",
    "            str(token) not in already_in_noun_chunks\n",
    "        ):  # if a token in the string is an adjective and not already in the list to be returned\n",
    "            toReturn.append(str(token))\n",
    "\n",
    "    return list(toReturn)"
   ]
  },
  {
   "cell_type": "code",
   "execution_count": 5,
   "metadata": {},
   "outputs": [
    {
     "name": "stdout",
     "output_type": "stream",
     "text": [
      "INFO: Pandarallel will run on 8 workers.\n",
      "INFO: Pandarallel will use Memory file system to transfer data between the main process and workers.\n"
     ]
    },
    {
     "data": {
      "application/vnd.jupyter.widget-view+json": {
       "model_id": "4a79fc354f874c4c8cec9192f7f369df",
       "version_major": 2,
       "version_minor": 0
      },
      "text/plain": [
       "VBox(children=(HBox(children=(IntProgress(value=0, description='0.00%', max=13195), Label(value='0 / 13195')))…"
      ]
     },
     "metadata": {},
     "output_type": "display_data"
    },
    {
     "data": {
      "application/vnd.jupyter.widget-view+json": {
       "model_id": "6d88a88d5b664f319a1a65d1770c73f2",
       "version_major": 2,
       "version_minor": 0
      },
      "text/plain": [
       "VBox(children=(HBox(children=(IntProgress(value=0, description='0.00%', max=734), Label(value='0 / 734'))), HB…"
      ]
     },
     "metadata": {},
     "output_type": "display_data"
    },
    {
     "data": {
      "application/vnd.jupyter.widget-view+json": {
       "model_id": "9afc3b16d2f64af5a3ff7db7774642cf",
       "version_major": 2,
       "version_minor": 0
      },
      "text/plain": [
       "VBox(children=(HBox(children=(IntProgress(value=0, description='0.00%', max=733), Label(value='0 / 733'))), HB…"
      ]
     },
     "metadata": {},
     "output_type": "display_data"
    }
   ],
   "source": [
    "pandarallel.initialize(progress_bar=True)\n",
    "for split in data:\n",
    "    df = data[split]\n",
    "    df[\"keywords\"] = df[\"description\"].parallel_apply(get_descriptors)"
   ]
  },
  {
   "cell_type": "code",
   "execution_count": 6,
   "metadata": {},
   "outputs": [],
   "source": [
    "for split in data:\n",
    "    df = data[split]\n",
    "    df[\"keywords\"] = df[\"keywords\"].map(lambda x: \" \".join(x))\n",
    "    df = df[[\"keywords\", \"region_variety\"]]\n",
    "    df.to_csv(f\"../data/wine_keywords_{split}.csv\", index=False)"
   ]
  },
  {
   "cell_type": "code",
   "execution_count": 7,
   "metadata": {},
   "outputs": [],
   "source": [
    "df = data[\"train\"]\n",
    "df = df[[\"keywords\", \"region_variety\"]]"
   ]
  },
  {
   "cell_type": "code",
   "execution_count": 8,
   "metadata": {},
   "outputs": [],
   "source": [
    "df = df.groupby(\"region_variety\").agg(sum)"
   ]
  },
  {
   "cell_type": "code",
   "execution_count": 9,
   "metadata": {},
   "outputs": [],
   "source": [
    "df = df.reset_index()"
   ]
  },
  {
   "cell_type": "code",
   "execution_count": 10,
   "metadata": {},
   "outputs": [],
   "source": [
    "from collections import Counter\n",
    "import numpy as np\n",
    "\n",
    "## Calculating TF(t,d) = log(1 + count(t | d))\n",
    "df[\"tf\"] = df[\"keywords\"].map(Counter)\n",
    "for counter_object in df.tf:\n",
    "    for word in counter_object:\n",
    "        counter_object[word] = np.log(counter_object[word] + 1)\n",
    "\n",
    "idf = []\n",
    "## Calculating IDF(d, t) = log(N/|{d in D: t in d}|)\n",
    "for i in df.tf:\n",
    "    results = {}\n",
    "    for word in i:\n",
    "        denominator = 0\n",
    "        for j in df.tf:\n",
    "            if word in j:\n",
    "                denominator += 1\n",
    "        results[word] = np.log(584 / denominator)\n",
    "    idf.append(results)\n",
    "df[\"idf\"] = idf"
   ]
  },
  {
   "cell_type": "code",
   "execution_count": 11,
   "metadata": {},
   "outputs": [
    {
     "data": {
      "text/html": [
       "<div>\n",
       "<style scoped>\n",
       "    .dataframe tbody tr th:only-of-type {\n",
       "        vertical-align: middle;\n",
       "    }\n",
       "\n",
       "    .dataframe tbody tr th {\n",
       "        vertical-align: top;\n",
       "    }\n",
       "\n",
       "    .dataframe thead th {\n",
       "        text-align: right;\n",
       "    }\n",
       "</style>\n",
       "<table border=\"1\" class=\"dataframe\">\n",
       "  <thead>\n",
       "    <tr style=\"text-align: right;\">\n",
       "      <th></th>\n",
       "      <th>region_variety</th>\n",
       "      <th>keywords</th>\n",
       "      <th>tf</th>\n",
       "      <th>idf</th>\n",
       "    </tr>\n",
       "  </thead>\n",
       "  <tbody>\n",
       "    <tr>\n",
       "      <th>0</th>\n",
       "      <td>Argentina-Mendoza Province:Bonarda</td>\n",
       "      <td>bonarda likable plum expectations argentinean ...</td>\n",
       "      <td>{'b': 5.605802066295998, 'o': 5.84064165737339...</td>\n",
       "      <td>{'b': 0.0, 'o': 0.0, 'n': 0.0, 'a': 0.0, 'r': ...</td>\n",
       "    </tr>\n",
       "    <tr>\n",
       "      <th>1</th>\n",
       "      <td>Argentina-Mendoza Province:Bordeaux-style Red ...</td>\n",
       "      <td>revancha wines esteemed winemaker roberto de l...</td>\n",
       "      <td>{'r': 6.440946540632921, 'e': 6.73815249459595...</td>\n",
       "      <td>{'r': 0.0, 'e': 0.0, 'v': 0.0, 'a': 0.0, 'n': ...</td>\n",
       "    </tr>\n",
       "    <tr>\n",
       "      <th>2</th>\n",
       "      <td>Argentina-Mendoza Province:Cabernet Franc</td>\n",
       "      <td>cab franc cassis wild berries pastry vanilla b...</td>\n",
       "      <td>{'c': 5.455321115357702, 'a': 5.87493073085203...</td>\n",
       "      <td>{'c': 0.0, 'a': 0.0, 'b': 0.0, ' ': 0.0, 'f': ...</td>\n",
       "    </tr>\n",
       "    <tr>\n",
       "      <th>3</th>\n",
       "      <td>Argentina-Mendoza Province:Cabernet Sauvignon</td>\n",
       "      <td>clove broad shoulders firm tannins campfire sm...</td>\n",
       "      <td>{'c': 7.533158807455563, 'l': 7.50384074669895...</td>\n",
       "      <td>{'c': 0.0, 'l': 0.0, 'o': 0.0, 'v': 0.0, 'e': ...</td>\n",
       "    </tr>\n",
       "    <tr>\n",
       "      <th>4</th>\n",
       "      <td>Argentina-Mendoza Province:Chardonnay</td>\n",
       "      <td>terms woody chardonnay vanilla oak basic fine ...</td>\n",
       "      <td>{'t': 7.069023426578259, 'e': 7.44658509915772...</td>\n",
       "      <td>{'t': 0.0, 'e': 0.0, 'r': 0.0, 'm': 0.0, 's': ...</td>\n",
       "    </tr>\n",
       "  </tbody>\n",
       "</table>\n",
       "</div>"
      ],
      "text/plain": [
       "                                      region_variety  \\\n",
       "0                 Argentina-Mendoza Province:Bonarda   \n",
       "1  Argentina-Mendoza Province:Bordeaux-style Red ...   \n",
       "2          Argentina-Mendoza Province:Cabernet Franc   \n",
       "3      Argentina-Mendoza Province:Cabernet Sauvignon   \n",
       "4              Argentina-Mendoza Province:Chardonnay   \n",
       "\n",
       "                                            keywords  \\\n",
       "0  bonarda likable plum expectations argentinean ...   \n",
       "1  revancha wines esteemed winemaker roberto de l...   \n",
       "2  cab franc cassis wild berries pastry vanilla b...   \n",
       "3  clove broad shoulders firm tannins campfire sm...   \n",
       "4  terms woody chardonnay vanilla oak basic fine ...   \n",
       "\n",
       "                                                  tf  \\\n",
       "0  {'b': 5.605802066295998, 'o': 5.84064165737339...   \n",
       "1  {'r': 6.440946540632921, 'e': 6.73815249459595...   \n",
       "2  {'c': 5.455321115357702, 'a': 5.87493073085203...   \n",
       "3  {'c': 7.533158807455563, 'l': 7.50384074669895...   \n",
       "4  {'t': 7.069023426578259, 'e': 7.44658509915772...   \n",
       "\n",
       "                                                 idf  \n",
       "0  {'b': 0.0, 'o': 0.0, 'n': 0.0, 'a': 0.0, 'r': ...  \n",
       "1  {'r': 0.0, 'e': 0.0, 'v': 0.0, 'a': 0.0, 'n': ...  \n",
       "2  {'c': 0.0, 'a': 0.0, 'b': 0.0, ' ': 0.0, 'f': ...  \n",
       "3  {'c': 0.0, 'l': 0.0, 'o': 0.0, 'v': 0.0, 'e': ...  \n",
       "4  {'t': 0.0, 'e': 0.0, 'r': 0.0, 'm': 0.0, 's': ...  "
      ]
     },
     "execution_count": 11,
     "metadata": {},
     "output_type": "execute_result"
    }
   ],
   "source": [
    "df.head()"
   ]
  },
  {
   "cell_type": "code",
   "execution_count": 12,
   "metadata": {},
   "outputs": [
    {
     "name": "stderr",
     "output_type": "stream",
     "text": [
      "584it [00:00, 4733.77it/s]\n"
     ]
    }
   ],
   "source": [
    "# Calculating TF-IDF and find top 10 keywords for each region_variety\n",
    "from tqdm import tqdm\n",
    "\n",
    "\n",
    "keywords = {}\n",
    "for _, row in tqdm(df.iterrows()):\n",
    "    tfidf = {k: row[\"tf\"][k] * row[\"idf\"][k] for k in row[\"tf\"]}\n",
    "    counter = Counter(tfidf)\n",
    "    top10 = counter.most_common(10)\n",
    "    keywords[row[\"region_variety\"]] = {\n",
    "        \"keywords\": [word for word, _ in top10],\n",
    "        \"tfidf\": [count for _, count in top10],\n",
    "    }"
   ]
  },
  {
   "cell_type": "code",
   "execution_count": 13,
   "metadata": {},
   "outputs": [],
   "source": [
    "import json\n",
    "\n",
    "with open(\"../models/idx_to_label.json\", \"r\") as f:\n",
    "    idx_to_label = json.load(f)\n",
    "\n",
    "idx_to_keywords = [\n",
    "    {\n",
    "        \"label\": label,\n",
    "        \"keywords\": keywords[label][\"keywords\"],\n",
    "        \"tfidf\": keywords[label][\"tfidf\"],\n",
    "        \"support\": support[label],\n",
    "    }\n",
    "    for label in idx_to_label\n",
    "]\n",
    "\n",
    "with open(\"../models/idx_to_keywords.json\", \"w\") as f:\n",
    "    json.dump(idx_to_keywords, f)\n",
    "    f.write(\"\\n\")"
   ]
  },
  {
   "cell_type": "code",
   "execution_count": null,
   "metadata": {},
   "outputs": [],
   "source": []
  }
 ],
 "metadata": {
  "kernelspec": {
   "display_name": "Python 3 (ipykernel)",
   "language": "python",
   "name": "python3"
  },
  "language_info": {
   "codemirror_mode": {
    "name": "ipython",
    "version": 3
   },
   "file_extension": ".py",
   "mimetype": "text/x-python",
   "name": "python",
   "nbconvert_exporter": "python",
   "pygments_lexer": "ipython3",
   "version": "3.9.12"
  },
  "vscode": {
   "interpreter": {
    "hash": "b09ec625f77bf4fd762565a912b97636504ad6ec901eb2d0f4cf5a7de23e1ee5"
   }
  }
 },
 "nbformat": 4,
 "nbformat_minor": 2
}
