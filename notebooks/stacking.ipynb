{
 "cells": [
  {
   "cell_type": "code",
   "execution_count": 1,
   "metadata": {},
   "outputs": [],
   "source": [
    "import numpy as np\n",
    "import pandas as pd\n",
    "\n",
    "from sklearn.ensemble import RandomForestClassifier"
   ]
  },
  {
   "cell_type": "code",
   "execution_count": 3,
   "metadata": {},
   "outputs": [],
   "source": [
    "# Load embeddings and labels\n",
    "# Note: You may need to generate the embeddings using\n",
    "#       the `data_pretrained_embeddings.ipynb` notebook.\n",
    "\n",
    "data = {}\n",
    "\n",
    "for split in [\"train\", \"val\", \"test\"]:\n",
    "    df = pd.read_csv(f\"../data/wine_cleaned_{split}.csv\")\n",
    "    embeddings = np.load(f\"../data/embeddings/{split}_embeddings.npy\")\n",
    "    labels = df[\"region_variety\"].tolist()\n",
    "    data[split] = {\"embeddings\": embeddings, \"labels\": labels}"
   ]
  },
  {
   "cell_type": "code",
   "execution_count": 5,
   "metadata": {},
   "outputs": [
    {
     "name": "stdout",
     "output_type": "stream",
     "text": [
      "Train embeddings shape: (105554, 256)\n",
      "Train labels shape: 105554\n"
     ]
    }
   ],
   "source": [
    "print(\"Train embeddings shape:\", data[\"train\"][\"embeddings\"].shape)\n",
    "print(\"Train labels shape:\", len(data[\"train\"][\"labels\"]))"
   ]
  },
  {
   "cell_type": "code",
   "execution_count": null,
   "metadata": {},
   "outputs": [],
   "source": []
  }
 ],
 "metadata": {
  "kernelspec": {
   "display_name": "Python 3.8.8 ('base')",
   "language": "python",
   "name": "python3"
  },
  "language_info": {
   "codemirror_mode": {
    "name": "ipython",
    "version": 3
   },
   "file_extension": ".py",
   "mimetype": "text/x-python",
   "name": "python",
   "nbconvert_exporter": "python",
   "pygments_lexer": "ipython3",
   "version": "3.8.8"
  },
  "orig_nbformat": 4,
  "vscode": {
   "interpreter": {
    "hash": "b09ec625f77bf4fd762565a912b97636504ad6ec901eb2d0f4cf5a7de23e1ee5"
   }
  }
 },
 "nbformat": 4,
 "nbformat_minor": 2
}
