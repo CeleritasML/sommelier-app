{
 "cells": [
  {
   "cell_type": "code",
   "execution_count": 1,
   "metadata": {},
   "outputs": [],
   "source": [
    "import numpy as np\n",
    "import pandas as pd"
   ]
  },
  {
   "cell_type": "code",
   "execution_count": 2,
   "metadata": {},
   "outputs": [],
   "source": [
    "# Load keywords and labels\n",
    "\n",
    "data = {}\n",
    "\n",
    "for split in [\"train\", \"val\", \"test\"]:\n",
    "    df = pd.read_csv(f\"../data/wine_keywords_{split}.csv\")\n",
    "    # Drop na\n",
    "    df = df.dropna()\n",
    "    data[split] = df"
   ]
  },
  {
   "cell_type": "code",
   "execution_count": 3,
   "metadata": {},
   "outputs": [
    {
     "data": {
      "text/html": [
       "<div>\n",
       "<style scoped>\n",
       "    .dataframe tbody tr th:only-of-type {\n",
       "        vertical-align: middle;\n",
       "    }\n",
       "\n",
       "    .dataframe tbody tr th {\n",
       "        vertical-align: top;\n",
       "    }\n",
       "\n",
       "    .dataframe thead th {\n",
       "        text-align: right;\n",
       "    }\n",
       "</style>\n",
       "<table border=\"1\" class=\"dataframe\">\n",
       "  <thead>\n",
       "    <tr style=\"text-align: right;\">\n",
       "      <th></th>\n",
       "      <th>keywords</th>\n",
       "      <th>region_variety</th>\n",
       "    </tr>\n",
       "  </thead>\n",
       "  <tbody>\n",
       "    <tr>\n",
       "      <th>0</th>\n",
       "      <td>core adequate acidity moderate extraction medi...</td>\n",
       "      <td>France-Languedoc-Roussillon:Cabernet Sauvignon</td>\n",
       "    </tr>\n",
       "    <tr>\n",
       "      <th>1</th>\n",
       "      <td>complexity varietal character black plum light...</td>\n",
       "      <td>US-California:Merlot</td>\n",
       "    </tr>\n",
       "    <tr>\n",
       "      <th>2</th>\n",
       "      <td>rhubarb cranberry fruit red apple light simple...</td>\n",
       "      <td>US-Oregon:Pinot Noir</td>\n",
       "    </tr>\n",
       "    <tr>\n",
       "      <th>3</th>\n",
       "      <td>impressive fullness ripeness black cherry leat...</td>\n",
       "      <td>Italy-Veneto:Corvina, Rondinella, Molinara</td>\n",
       "    </tr>\n",
       "    <tr>\n",
       "      <th>4</th>\n",
       "      <td>dusty tones mineral saffron pollen concentrate...</td>\n",
       "      <td>Germany-Mosel:Riesling</td>\n",
       "    </tr>\n",
       "  </tbody>\n",
       "</table>\n",
       "</div>"
      ],
      "text/plain": [
       "                                            keywords  \\\n",
       "0  core adequate acidity moderate extraction medi...   \n",
       "1  complexity varietal character black plum light...   \n",
       "2  rhubarb cranberry fruit red apple light simple...   \n",
       "3  impressive fullness ripeness black cherry leat...   \n",
       "4  dusty tones mineral saffron pollen concentrate...   \n",
       "\n",
       "                                   region_variety  \n",
       "0  France-Languedoc-Roussillon:Cabernet Sauvignon  \n",
       "1                            US-California:Merlot  \n",
       "2                            US-Oregon:Pinot Noir  \n",
       "3      Italy-Veneto:Corvina, Rondinella, Molinara  \n",
       "4                          Germany-Mosel:Riesling  "
      ]
     },
     "execution_count": 3,
     "metadata": {},
     "output_type": "execute_result"
    }
   ],
   "source": [
    "data[\"train\"].head()"
   ]
  },
  {
   "cell_type": "code",
   "execution_count": 4,
   "metadata": {},
   "outputs": [],
   "source": [
    "# Count vectorizer\n",
    "from sklearn.feature_extraction.text import CountVectorizer\n",
    "\n",
    "vectorizer = CountVectorizer()\n",
    "vectorizer.fit(data[\"train\"][\"keywords\"])\n",
    "\n",
    "train_vectors = vectorizer.transform(data[\"train\"][\"keywords\"])\n",
    "val_vectors = vectorizer.transform(data[\"val\"][\"keywords\"])\n",
    "test_vectors = vectorizer.transform(data[\"test\"][\"keywords\"])"
   ]
  },
  {
   "cell_type": "code",
   "execution_count": 5,
   "metadata": {},
   "outputs": [
    {
     "name": "stdout",
     "output_type": "stream",
     "text": [
      "Vectorizer #features: 17856\n",
      "Vectorizer features: ['agustin', 'ahi', 'aid', 'aidil', 'aids', 'aiken', 'aims', 'aiolo', 'air', 'airborne', 'aires', 'airfield', 'airiness', 'airing', 'airs', 'airtime', 'airy', 'airén', 'aix', 'aka', 'akin', 'al', 'alabaster', 'alain', 'alamos', 'alan', 'alana', 'alance', 'alarid', 'alarming', 'alaska', 'alastro', 'alayt', 'alazan', 'alba', 'alban', 'albana', 'albanello', 'albar', 'albarino', 'albariño', 'albarossa', 'albe', 'albeggio', 'albera', 'alberdi', 'albert', 'alberta', 'alberto', 'albola', 'alcamo', 'alcantara', 'alchemist', 'alchemy', 'alcholic', 'alcineo', 'alcohol', 'alcoholic', 'alconte', 'aldegheri', 'alder', 'alderbrook', 'ale', 'aleatico', 'alejandro', 'alene', 'alentejano', 'alentejo', 'aleramico', 'alert', 'alessandro', 'alessano', 'alessio', 'alex', 'alexander', 'alexandra', 'alexandre', 'alexandria', 'alexandrine', 'alexia', 'alexis', 'alfalfa', 'alfonso', 'alfred', 'alfredo', 'alfresco', 'alfrocheiro', 'aliança', 'alicante', 'alice', 'alicia', 'alidis', 'alighieri', 'aligi', 'align', 'alignment', 'aligoté', 'alion', 'aliso', 'alison']\n"
     ]
    }
   ],
   "source": [
    "print(\"Vectorizer #features:\", len(vectorizer.get_feature_names()))\n",
    "print(\"Vectorizer features:\", vectorizer.get_feature_names()[500:600])"
   ]
  },
  {
   "cell_type": "code",
   "execution_count": 6,
   "metadata": {},
   "outputs": [
    {
     "name": "stdout",
     "output_type": "stream",
     "text": [
      "Naive Bayes Train accuracy: 0.3661986509019251\n",
      "Naive Bayes Val accuracy: 0.32162346521145974\n"
     ]
    }
   ],
   "source": [
    "# Train a naive Bayes classifier\n",
    "from sklearn.naive_bayes import MultinomialNB\n",
    "\n",
    "clf = MultinomialNB()\n",
    "clf.fit(train_vectors, data[\"train\"][\"region_variety\"])\n",
    "\n",
    "# Evaluate the model\n",
    "from sklearn.metrics import accuracy_score\n",
    "\n",
    "\n",
    "def evaluate_model(model, vectors, labels):\n",
    "    predictions = model.predict(vectors)\n",
    "    return accuracy_score(labels, predictions)\n",
    "\n",
    "\n",
    "print(\n",
    "    \"Naive Bayes Train accuracy:\",\n",
    "    evaluate_model(clf, train_vectors, data[\"train\"][\"region_variety\"]),\n",
    ")\n",
    "print(\n",
    "    \"Naive Bayes Val accuracy:\",\n",
    "    evaluate_model(clf, val_vectors, data[\"val\"][\"region_variety\"]),\n",
    ")"
   ]
  },
  {
   "cell_type": "code",
   "execution_count": 7,
   "metadata": {},
   "outputs": [
    {
     "name": "stdout",
     "output_type": "stream",
     "text": [
      "Perceptron Train accuracy: 0.6240336516598454\n",
      "Perceptron Val accuracy: 0.3211118690313779\n"
     ]
    }
   ],
   "source": [
    "# Train a perceptron\n",
    "from sklearn.linear_model import Perceptron\n",
    "\n",
    "clf = Perceptron(n_jobs=-1)\n",
    "clf.fit(train_vectors, data[\"train\"][\"region_variety\"])\n",
    "\n",
    "print(\n",
    "    \"Perceptron Train accuracy:\",\n",
    "    evaluate_model(clf, train_vectors, data[\"train\"][\"region_variety\"]),\n",
    ")\n",
    "print(\n",
    "    \"Perceptron Val accuracy:\",\n",
    "    evaluate_model(clf, val_vectors, data[\"val\"][\"region_variety\"]),\n",
    ")"
   ]
  },
  {
   "cell_type": "code",
   "execution_count": 8,
   "metadata": {},
   "outputs": [
    {
     "name": "stdout",
     "output_type": "stream",
     "text": [
      "LinearSVC Train accuracy: 0.8405714718811581\n",
      "LinearSVC Val accuracy: 0.4201909959072306\n"
     ]
    }
   ],
   "source": [
    "# Train a LinearSVC\n",
    "from sklearn.svm import LinearSVC\n",
    "\n",
    "clf = LinearSVC()\n",
    "clf.fit(train_vectors, data[\"train\"][\"region_variety\"])\n",
    "\n",
    "print(\n",
    "    \"LinearSVC Train accuracy:\",\n",
    "    evaluate_model(clf, train_vectors, data[\"train\"][\"region_variety\"]),\n",
    ")\n",
    "print(\n",
    "    \"LinearSVC Val accuracy:\",\n",
    "    evaluate_model(clf, val_vectors, data[\"val\"][\"region_variety\"]),\n",
    ")"
   ]
  }
 ],
 "metadata": {
  "kernelspec": {
   "display_name": "Python 3.8.8 ('base')",
   "language": "python",
   "name": "python3"
  },
  "language_info": {
   "codemirror_mode": {
    "name": "ipython",
    "version": 3
   },
   "file_extension": ".py",
   "mimetype": "text/x-python",
   "name": "python",
   "nbconvert_exporter": "python",
   "pygments_lexer": "ipython3",
   "version": "3.8.8"
  },
  "orig_nbformat": 4,
  "vscode": {
   "interpreter": {
    "hash": "b09ec625f77bf4fd762565a912b97636504ad6ec901eb2d0f4cf5a7de23e1ee5"
   }
  }
 },
 "nbformat": 4,
 "nbformat_minor": 2
}
